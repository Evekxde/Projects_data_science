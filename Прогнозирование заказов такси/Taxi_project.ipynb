{
  "cells": [
    {
      "cell_type": "markdown",
      "metadata": {
        "toc": true,
        "id": "9k8YqoIwfRuz"
      },
      "source": [
        "<h1>Содержание<span class=\"tocSkip\"></span></h1>\n",
        "<div class=\"toc\"><ul class=\"toc-item\"><li><span><a href=\"#Подготовка\" data-toc-modified-id=\"Подготовка-1\"><span class=\"toc-item-num\">1&nbsp;&nbsp;</span>Подготовка</a></span><ul class=\"toc-item\"><li><span><a href=\"#Загрузка-и-знакомство-с-данными\" data-toc-modified-id=\"Загрузка-и-знакомство-с-данными-1.1\"><span class=\"toc-item-num\">1.1&nbsp;&nbsp;</span>Загрузка и знакомство с данными</a></span></li><li><span><a href=\"#Подготовка-данных\" data-toc-modified-id=\"Подготовка-данных-1.2\"><span class=\"toc-item-num\">1.2&nbsp;&nbsp;</span>Подготовка данных</a></span></li></ul></li><li><span><a href=\"#Анализ\" data-toc-modified-id=\"Анализ-2\"><span class=\"toc-item-num\">2&nbsp;&nbsp;</span>Анализ</a></span><ul class=\"toc-item\"><li><span><a href=\"#Скользящее-среднее\" data-toc-modified-id=\"Скользящее-среднее-2.1\"><span class=\"toc-item-num\">2.1&nbsp;&nbsp;</span>Скользящее среднее</a></span></li><li><span><a href=\"#Тренды-и-сезонность\" data-toc-modified-id=\"Тренды-и-сезонность-2.2\"><span class=\"toc-item-num\">2.2&nbsp;&nbsp;</span>Тренды и сезонность</a></span></li></ul></li><li><span><a href=\"#Обучение\" data-toc-modified-id=\"Обучение-3\"><span class=\"toc-item-num\">3&nbsp;&nbsp;</span>Обучение</a></span><ul class=\"toc-item\"><li><span><a href=\"#Добавление-новых-признаков\" data-toc-modified-id=\"Добавление-новых-признаков-3.1\"><span class=\"toc-item-num\">3.1&nbsp;&nbsp;</span>Добавление новых признаков</a></span></li><li><span><a href=\"#Подготовка-данных\" data-toc-modified-id=\"Подготовка-данных-3.2\"><span class=\"toc-item-num\">3.2&nbsp;&nbsp;</span>Подготовка данных</a></span></li></ul></li><li><span><a href=\"#Тестирование\" data-toc-modified-id=\"Тестирование-4\"><span class=\"toc-item-num\">4&nbsp;&nbsp;</span>Тестирование</a></span><ul class=\"toc-item\"><li><span><a href=\"#Проверка-модели\" data-toc-modified-id=\"Проверка-модели-4.1\"><span class=\"toc-item-num\">4.1&nbsp;&nbsp;</span>Проверка модели</a></span></li></ul></li><li><span><a href=\"#Вывод\" data-toc-modified-id=\"Вывод-5\"><span class=\"toc-item-num\">5&nbsp;&nbsp;</span>Вывод</a></span>"
      ]
    },
    {
      "cell_type": "markdown",
      "metadata": {
        "id": "LWX7B_2ffRu2"
      },
      "source": [
        "#  Прогнозирование заказов такси"
      ]
    },
    {
      "cell_type": "markdown",
      "metadata": {
        "id": "CWE1qUv8fRu2"
      },
      "source": [
        "Компания «Чётенькое такси» собрала исторические данные о заказах такси в аэропортах. Чтобы привлекать больше водителей в период пиковой нагрузки, нужно спрогнозировать количество заказов такси на следующий час. Постройте модель для такого предсказания.\n",
        "\n",
        "Вам нужно:\n",
        "\n",
        "1. Загрузить данные и выполнить их ресемплирование по одному часу.\n",
        "2. Проанализировать данные.\n",
        "3. Обучить разные модели с различными гиперпараметрами. Сделать тестовую выборку размером 10% от исходных данных.\n",
        "4. Проверить данные на тестовой выборке и сделать выводы.\n"
      ]
    },
    {
      "cell_type": "markdown",
      "metadata": {
        "id": "YvypM4FEfRu3"
      },
      "source": [
        "Сначала устанавливаю и загружаю все необходимые для работы библиотеки"
      ]
    },
    {
      "cell_type": "code",
      "execution_count": 1,
      "metadata": {
        "colab": {
          "base_uri": "https://localhost:8080/"
        },
        "id": "X2l7C-yNfRu3",
        "outputId": "3a69ffe3-ea8e-4718-bf98-6e9a01496c6d"
      },
      "outputs": [
        {
          "output_type": "stream",
          "name": "stdout",
          "text": [
            "\u001b[2K   \u001b[90m━━━━━━━━━━━━━━━━━━━━━━━━━━━━━━━━━━━━━━━━\u001b[0m \u001b[32m99.2/99.2 MB\u001b[0m \u001b[31m9.4 MB/s\u001b[0m eta \u001b[36m0:00:00\u001b[0m\n",
            "\u001b[2K   \u001b[90m━━━━━━━━━━━━━━━━━━━━━━━━━━━━━━━━━━━━━━━━\u001b[0m \u001b[32m679.7/679.7 kB\u001b[0m \u001b[31m3.1 MB/s\u001b[0m eta \u001b[36m0:00:00\u001b[0m\n",
            "\u001b[?25h"
          ]
        }
      ],
      "source": [
        "!pip install lightgbm -q\n",
        "!pip install catboost -q\n",
        "!pip install shap -q\n",
        "!pip install phik -q"
      ]
    },
    {
      "cell_type": "code",
      "execution_count": 2,
      "metadata": {
        "colab": {
          "base_uri": "https://localhost:8080/"
        },
        "id": "DIpMct92fRu4",
        "outputId": "db8b59cc-86a4-4e11-9bc7-6199ebd511aa"
      },
      "outputs": [
        {
          "output_type": "stream",
          "name": "stdout",
          "text": [
            "\u001b[2K   \u001b[90m━━━━━━━━━━━━━━━━━━━━━━━━━━━━━━━━━━━━━━━━\u001b[0m \u001b[32m9.5/9.5 MB\u001b[0m \u001b[31m48.4 MB/s\u001b[0m eta \u001b[36m0:00:00\u001b[0m\n",
            "\u001b[?25h"
          ]
        }
      ],
      "source": [
        "!pip install --upgrade scikit-learn -q"
      ]
    },
    {
      "cell_type": "code",
      "execution_count": 3,
      "metadata": {
        "id": "ZXogoPsvfRu5"
      },
      "outputs": [],
      "source": [
        "import os\n",
        "import pandas as pd\n",
        "import matplotlib\n",
        "import matplotlib.pyplot as plt\n",
        "import matplotlib.dates as mdates\n",
        "import numpy as np\n",
        "import seaborn as sns\n",
        "import shap\n",
        "from statsmodels.tsa.seasonal import seasonal_decompose\n",
        "from phik import phik_matrix\n",
        "from phik.report import plot_correlation_matrix"
      ]
    },
    {
      "cell_type": "code",
      "execution_count": 4,
      "metadata": {
        "id": "kkFkzvtvfRu5"
      },
      "outputs": [],
      "source": [
        "from sklearn.model_selection import train_test_split\n",
        "from sklearn.metrics import root_mean_squared_error\n",
        "from sklearn.preprocessing import StandardScaler, OneHotEncoder\n",
        "from sklearn.linear_model import LinearRegression\n",
        "from sklearn.utils import resample\n",
        "from sklearn.pipeline import Pipeline\n",
        "from sklearn.preprocessing import RobustScaler, StandardScaler, MinMaxScaler\n",
        "from sklearn.compose import ColumnTransformer\n",
        "from sklearn.impute import SimpleImputer\n",
        "from sklearn.model_selection import RandomizedSearchCV, GridSearchCV, TimeSeriesSplit\n",
        "from lightgbm import LGBMRegressor\n",
        "from catboost import CatBoostRegressor"
      ]
    },
    {
      "cell_type": "markdown",
      "metadata": {
        "id": "iz5HxownfRu5"
      },
      "source": [
        "## Подготовка"
      ]
    },
    {
      "cell_type": "markdown",
      "metadata": {
        "id": "gdyeRqoIfRu6"
      },
      "source": [
        "### Загрузка и знакомство с данными"
      ]
    },
    {
      "cell_type": "code",
      "execution_count": 5,
      "metadata": {
        "id": "C9vW_AIMfRu6"
      },
      "outputs": [],
      "source": [
        "data = pd.read_csv('https://code.s3.yandex.net/datasets/taxi.csv')"
      ]
    },
    {
      "cell_type": "code",
      "execution_count": 6,
      "metadata": {
        "colab": {
          "base_uri": "https://localhost:8080/",
          "height": 362
        },
        "id": "zF4ggxUQfRu6",
        "outputId": "f14274dd-a3b0-4781-ecd6-d89945872d4d"
      },
      "outputs": [
        {
          "output_type": "stream",
          "name": "stdout",
          "text": [
            "<class 'pandas.core.frame.DataFrame'>\n",
            "RangeIndex: 26496 entries, 0 to 26495\n",
            "Data columns (total 2 columns):\n",
            " #   Column      Non-Null Count  Dtype \n",
            "---  ------      --------------  ----- \n",
            " 0   datetime    26496 non-null  object\n",
            " 1   num_orders  26496 non-null  int64 \n",
            "dtypes: int64(1), object(1)\n",
            "memory usage: 414.1+ KB\n"
          ]
        },
        {
          "output_type": "execute_result",
          "data": {
            "text/plain": [
              "              datetime  num_orders\n",
              "0  2018-03-01 00:00:00           9\n",
              "1  2018-03-01 00:10:00          14\n",
              "2  2018-03-01 00:20:00          28\n",
              "3  2018-03-01 00:30:00          20\n",
              "4  2018-03-01 00:40:00          32"
            ],
            "text/html": [
              "\n",
              "  <div id=\"df-102b8cd0-a578-45d8-934c-c7983b655d37\" class=\"colab-df-container\">\n",
              "    <div>\n",
              "<style scoped>\n",
              "    .dataframe tbody tr th:only-of-type {\n",
              "        vertical-align: middle;\n",
              "    }\n",
              "\n",
              "    .dataframe tbody tr th {\n",
              "        vertical-align: top;\n",
              "    }\n",
              "\n",
              "    .dataframe thead th {\n",
              "        text-align: right;\n",
              "    }\n",
              "</style>\n",
              "<table border=\"1\" class=\"dataframe\">\n",
              "  <thead>\n",
              "    <tr style=\"text-align: right;\">\n",
              "      <th></th>\n",
              "      <th>datetime</th>\n",
              "      <th>num_orders</th>\n",
              "    </tr>\n",
              "  </thead>\n",
              "  <tbody>\n",
              "    <tr>\n",
              "      <th>0</th>\n",
              "      <td>2018-03-01 00:00:00</td>\n",
              "      <td>9</td>\n",
              "    </tr>\n",
              "    <tr>\n",
              "      <th>1</th>\n",
              "      <td>2018-03-01 00:10:00</td>\n",
              "      <td>14</td>\n",
              "    </tr>\n",
              "    <tr>\n",
              "      <th>2</th>\n",
              "      <td>2018-03-01 00:20:00</td>\n",
              "      <td>28</td>\n",
              "    </tr>\n",
              "    <tr>\n",
              "      <th>3</th>\n",
              "      <td>2018-03-01 00:30:00</td>\n",
              "      <td>20</td>\n",
              "    </tr>\n",
              "    <tr>\n",
              "      <th>4</th>\n",
              "      <td>2018-03-01 00:40:00</td>\n",
              "      <td>32</td>\n",
              "    </tr>\n",
              "  </tbody>\n",
              "</table>\n",
              "</div>\n",
              "    <div class=\"colab-df-buttons\">\n",
              "\n",
              "  <div class=\"colab-df-container\">\n",
              "    <button class=\"colab-df-convert\" onclick=\"convertToInteractive('df-102b8cd0-a578-45d8-934c-c7983b655d37')\"\n",
              "            title=\"Convert this dataframe to an interactive table.\"\n",
              "            style=\"display:none;\">\n",
              "\n",
              "  <svg xmlns=\"http://www.w3.org/2000/svg\" height=\"24px\" viewBox=\"0 -960 960 960\">\n",
              "    <path d=\"M120-120v-720h720v720H120Zm60-500h600v-160H180v160Zm220 220h160v-160H400v160Zm0 220h160v-160H400v160ZM180-400h160v-160H180v160Zm440 0h160v-160H620v160ZM180-180h160v-160H180v160Zm440 0h160v-160H620v160Z\"/>\n",
              "  </svg>\n",
              "    </button>\n",
              "\n",
              "  <style>\n",
              "    .colab-df-container {\n",
              "      display:flex;\n",
              "      gap: 12px;\n",
              "    }\n",
              "\n",
              "    .colab-df-convert {\n",
              "      background-color: #E8F0FE;\n",
              "      border: none;\n",
              "      border-radius: 50%;\n",
              "      cursor: pointer;\n",
              "      display: none;\n",
              "      fill: #1967D2;\n",
              "      height: 32px;\n",
              "      padding: 0 0 0 0;\n",
              "      width: 32px;\n",
              "    }\n",
              "\n",
              "    .colab-df-convert:hover {\n",
              "      background-color: #E2EBFA;\n",
              "      box-shadow: 0px 1px 2px rgba(60, 64, 67, 0.3), 0px 1px 3px 1px rgba(60, 64, 67, 0.15);\n",
              "      fill: #174EA6;\n",
              "    }\n",
              "\n",
              "    .colab-df-buttons div {\n",
              "      margin-bottom: 4px;\n",
              "    }\n",
              "\n",
              "    [theme=dark] .colab-df-convert {\n",
              "      background-color: #3B4455;\n",
              "      fill: #D2E3FC;\n",
              "    }\n",
              "\n",
              "    [theme=dark] .colab-df-convert:hover {\n",
              "      background-color: #434B5C;\n",
              "      box-shadow: 0px 1px 3px 1px rgba(0, 0, 0, 0.15);\n",
              "      filter: drop-shadow(0px 1px 2px rgba(0, 0, 0, 0.3));\n",
              "      fill: #FFFFFF;\n",
              "    }\n",
              "  </style>\n",
              "\n",
              "    <script>\n",
              "      const buttonEl =\n",
              "        document.querySelector('#df-102b8cd0-a578-45d8-934c-c7983b655d37 button.colab-df-convert');\n",
              "      buttonEl.style.display =\n",
              "        google.colab.kernel.accessAllowed ? 'block' : 'none';\n",
              "\n",
              "      async function convertToInteractive(key) {\n",
              "        const element = document.querySelector('#df-102b8cd0-a578-45d8-934c-c7983b655d37');\n",
              "        const dataTable =\n",
              "          await google.colab.kernel.invokeFunction('convertToInteractive',\n",
              "                                                    [key], {});\n",
              "        if (!dataTable) return;\n",
              "\n",
              "        const docLinkHtml = 'Like what you see? Visit the ' +\n",
              "          '<a target=\"_blank\" href=https://colab.research.google.com/notebooks/data_table.ipynb>data table notebook</a>'\n",
              "          + ' to learn more about interactive tables.';\n",
              "        element.innerHTML = '';\n",
              "        dataTable['output_type'] = 'display_data';\n",
              "        await google.colab.output.renderOutput(dataTable, element);\n",
              "        const docLink = document.createElement('div');\n",
              "        docLink.innerHTML = docLinkHtml;\n",
              "        element.appendChild(docLink);\n",
              "      }\n",
              "    </script>\n",
              "  </div>\n",
              "\n",
              "\n",
              "    <div id=\"df-aa4a3b24-7403-4adf-9876-31cf736b7405\">\n",
              "      <button class=\"colab-df-quickchart\" onclick=\"quickchart('df-aa4a3b24-7403-4adf-9876-31cf736b7405')\"\n",
              "                title=\"Suggest charts\"\n",
              "                style=\"display:none;\">\n",
              "\n",
              "<svg xmlns=\"http://www.w3.org/2000/svg\" height=\"24px\"viewBox=\"0 0 24 24\"\n",
              "     width=\"24px\">\n",
              "    <g>\n",
              "        <path d=\"M19 3H5c-1.1 0-2 .9-2 2v14c0 1.1.9 2 2 2h14c1.1 0 2-.9 2-2V5c0-1.1-.9-2-2-2zM9 17H7v-7h2v7zm4 0h-2V7h2v10zm4 0h-2v-4h2v4z\"/>\n",
              "    </g>\n",
              "</svg>\n",
              "      </button>\n",
              "\n",
              "<style>\n",
              "  .colab-df-quickchart {\n",
              "      --bg-color: #E8F0FE;\n",
              "      --fill-color: #1967D2;\n",
              "      --hover-bg-color: #E2EBFA;\n",
              "      --hover-fill-color: #174EA6;\n",
              "      --disabled-fill-color: #AAA;\n",
              "      --disabled-bg-color: #DDD;\n",
              "  }\n",
              "\n",
              "  [theme=dark] .colab-df-quickchart {\n",
              "      --bg-color: #3B4455;\n",
              "      --fill-color: #D2E3FC;\n",
              "      --hover-bg-color: #434B5C;\n",
              "      --hover-fill-color: #FFFFFF;\n",
              "      --disabled-bg-color: #3B4455;\n",
              "      --disabled-fill-color: #666;\n",
              "  }\n",
              "\n",
              "  .colab-df-quickchart {\n",
              "    background-color: var(--bg-color);\n",
              "    border: none;\n",
              "    border-radius: 50%;\n",
              "    cursor: pointer;\n",
              "    display: none;\n",
              "    fill: var(--fill-color);\n",
              "    height: 32px;\n",
              "    padding: 0;\n",
              "    width: 32px;\n",
              "  }\n",
              "\n",
              "  .colab-df-quickchart:hover {\n",
              "    background-color: var(--hover-bg-color);\n",
              "    box-shadow: 0 1px 2px rgba(60, 64, 67, 0.3), 0 1px 3px 1px rgba(60, 64, 67, 0.15);\n",
              "    fill: var(--button-hover-fill-color);\n",
              "  }\n",
              "\n",
              "  .colab-df-quickchart-complete:disabled,\n",
              "  .colab-df-quickchart-complete:disabled:hover {\n",
              "    background-color: var(--disabled-bg-color);\n",
              "    fill: var(--disabled-fill-color);\n",
              "    box-shadow: none;\n",
              "  }\n",
              "\n",
              "  .colab-df-spinner {\n",
              "    border: 2px solid var(--fill-color);\n",
              "    border-color: transparent;\n",
              "    border-bottom-color: var(--fill-color);\n",
              "    animation:\n",
              "      spin 1s steps(1) infinite;\n",
              "  }\n",
              "\n",
              "  @keyframes spin {\n",
              "    0% {\n",
              "      border-color: transparent;\n",
              "      border-bottom-color: var(--fill-color);\n",
              "      border-left-color: var(--fill-color);\n",
              "    }\n",
              "    20% {\n",
              "      border-color: transparent;\n",
              "      border-left-color: var(--fill-color);\n",
              "      border-top-color: var(--fill-color);\n",
              "    }\n",
              "    30% {\n",
              "      border-color: transparent;\n",
              "      border-left-color: var(--fill-color);\n",
              "      border-top-color: var(--fill-color);\n",
              "      border-right-color: var(--fill-color);\n",
              "    }\n",
              "    40% {\n",
              "      border-color: transparent;\n",
              "      border-right-color: var(--fill-color);\n",
              "      border-top-color: var(--fill-color);\n",
              "    }\n",
              "    60% {\n",
              "      border-color: transparent;\n",
              "      border-right-color: var(--fill-color);\n",
              "    }\n",
              "    80% {\n",
              "      border-color: transparent;\n",
              "      border-right-color: var(--fill-color);\n",
              "      border-bottom-color: var(--fill-color);\n",
              "    }\n",
              "    90% {\n",
              "      border-color: transparent;\n",
              "      border-bottom-color: var(--fill-color);\n",
              "    }\n",
              "  }\n",
              "</style>\n",
              "\n",
              "      <script>\n",
              "        async function quickchart(key) {\n",
              "          const quickchartButtonEl =\n",
              "            document.querySelector('#' + key + ' button');\n",
              "          quickchartButtonEl.disabled = true;  // To prevent multiple clicks.\n",
              "          quickchartButtonEl.classList.add('colab-df-spinner');\n",
              "          try {\n",
              "            const charts = await google.colab.kernel.invokeFunction(\n",
              "                'suggestCharts', [key], {});\n",
              "          } catch (error) {\n",
              "            console.error('Error during call to suggestCharts:', error);\n",
              "          }\n",
              "          quickchartButtonEl.classList.remove('colab-df-spinner');\n",
              "          quickchartButtonEl.classList.add('colab-df-quickchart-complete');\n",
              "        }\n",
              "        (() => {\n",
              "          let quickchartButtonEl =\n",
              "            document.querySelector('#df-aa4a3b24-7403-4adf-9876-31cf736b7405 button');\n",
              "          quickchartButtonEl.style.display =\n",
              "            google.colab.kernel.accessAllowed ? 'block' : 'none';\n",
              "        })();\n",
              "      </script>\n",
              "    </div>\n",
              "    </div>\n",
              "  </div>\n"
            ],
            "application/vnd.google.colaboratory.intrinsic+json": {
              "type": "dataframe",
              "variable_name": "data",
              "summary": "{\n  \"name\": \"data\",\n  \"rows\": 26496,\n  \"fields\": [\n    {\n      \"column\": \"datetime\",\n      \"properties\": {\n        \"dtype\": \"object\",\n        \"num_unique_values\": 26496,\n        \"samples\": [\n          \"2018-06-16 18:00:00\",\n          \"2018-06-13 14:50:00\",\n          \"2018-05-08 15:40:00\"\n        ],\n        \"semantic_type\": \"\",\n        \"description\": \"\"\n      }\n    },\n    {\n      \"column\": \"num_orders\",\n      \"properties\": {\n        \"dtype\": \"number\",\n        \"std\": 9,\n        \"min\": 0,\n        \"max\": 119,\n        \"num_unique_values\": 81,\n        \"samples\": [\n          30,\n          9,\n          11\n        ],\n        \"semantic_type\": \"\",\n        \"description\": \"\"\n      }\n    }\n  ]\n}"
            }
          },
          "metadata": {},
          "execution_count": 6
        }
      ],
      "source": [
        "data.info()\n",
        "data.head(5)"
      ]
    },
    {
      "cell_type": "code",
      "execution_count": 7,
      "metadata": {
        "colab": {
          "base_uri": "https://localhost:8080/"
        },
        "id": "q-rvKP32fRu6",
        "outputId": "88c6378d-efd3-452c-9994-def7745a30e5"
      },
      "outputs": [
        {
          "output_type": "execute_result",
          "data": {
            "text/plain": [
              "np.int64(0)"
            ]
          },
          "metadata": {},
          "execution_count": 7
        }
      ],
      "source": [
        "data.duplicated().sum()"
      ]
    },
    {
      "cell_type": "markdown",
      "metadata": {
        "id": "ZxldWwxQfRu6"
      },
      "source": [
        "В данных отсутствуют пропуски и дубликаты, но тип данных у даты указан неверно, его нужно изменить"
      ]
    },
    {
      "cell_type": "markdown",
      "metadata": {
        "id": "iJUIEXGNfRu7"
      },
      "source": [
        "### Подготовка данных"
      ]
    },
    {
      "cell_type": "markdown",
      "metadata": {
        "id": "LVajj5AOfRu7"
      },
      "source": [
        "Меняю тип данных столбца с датой и временем"
      ]
    },
    {
      "cell_type": "code",
      "execution_count": 8,
      "metadata": {
        "id": "uD6RGKjlfRu7"
      },
      "outputs": [],
      "source": [
        "data['datetime'] = data['datetime'].astype('datetime64[ns]')"
      ]
    },
    {
      "cell_type": "code",
      "execution_count": 9,
      "metadata": {
        "colab": {
          "base_uri": "https://localhost:8080/"
        },
        "id": "XMO0ed4rfRu7",
        "outputId": "ddaff49e-03cb-41d6-a5df-593a35ab52d6"
      },
      "outputs": [
        {
          "output_type": "stream",
          "name": "stdout",
          "text": [
            "<class 'pandas.core.frame.DataFrame'>\n",
            "RangeIndex: 26496 entries, 0 to 26495\n",
            "Data columns (total 2 columns):\n",
            " #   Column      Non-Null Count  Dtype         \n",
            "---  ------      --------------  -----         \n",
            " 0   datetime    26496 non-null  datetime64[ns]\n",
            " 1   num_orders  26496 non-null  int64         \n",
            "dtypes: datetime64[ns](1), int64(1)\n",
            "memory usage: 414.1 KB\n"
          ]
        }
      ],
      "source": [
        "data.info()"
      ]
    },
    {
      "cell_type": "markdown",
      "metadata": {
        "id": "5d4T7wITfRu7"
      },
      "source": [
        "Делаю столбец с датой индексом"
      ]
    },
    {
      "cell_type": "code",
      "execution_count": 10,
      "metadata": {
        "colab": {
          "base_uri": "https://localhost:8080/"
        },
        "id": "1JAdCpAZfRu7",
        "outputId": "e9e62569-872d-4f7d-b7d7-72b246a24cfa"
      },
      "outputs": [
        {
          "output_type": "stream",
          "name": "stdout",
          "text": [
            "<class 'pandas.core.frame.DataFrame'>\n",
            "DatetimeIndex: 26496 entries, 2018-03-01 00:00:00 to 2018-08-31 23:50:00\n",
            "Data columns (total 1 columns):\n",
            " #   Column      Non-Null Count  Dtype\n",
            "---  ------      --------------  -----\n",
            " 0   num_orders  26496 non-null  int64\n",
            "dtypes: int64(1)\n",
            "memory usage: 414.0 KB\n"
          ]
        }
      ],
      "source": [
        "data = data.set_index('datetime')\n",
        "data.info()"
      ]
    },
    {
      "cell_type": "markdown",
      "metadata": {
        "id": "d8g4XK9BfRu8"
      },
      "source": [
        "Сортирую индексы в хронологическом порядке"
      ]
    },
    {
      "cell_type": "code",
      "execution_count": 11,
      "metadata": {
        "colab": {
          "base_uri": "https://localhost:8080/"
        },
        "id": "sQtUwwDIfRu8",
        "outputId": "5d08588f-6458-46bd-bbbd-201fa660d85d"
      },
      "outputs": [
        {
          "output_type": "stream",
          "name": "stdout",
          "text": [
            "False\n",
            "<class 'pandas.core.frame.DataFrame'>\n",
            "DatetimeIndex: 26496 entries, 2018-03-01 00:00:00 to 2018-08-31 23:50:00\n",
            "Data columns (total 1 columns):\n",
            " #   Column      Non-Null Count  Dtype\n",
            "---  ------      --------------  -----\n",
            " 0   num_orders  26496 non-null  int64\n",
            "dtypes: int64(1)\n",
            "memory usage: 414.0 KB\n",
            "None\n"
          ]
        }
      ],
      "source": [
        "data = data.sort_index(ascending=True)\n",
        "print(data.index.is_monotonic_decreasing)\n",
        "print(data.info())"
      ]
    },
    {
      "cell_type": "markdown",
      "metadata": {
        "id": "lLZEeNL2fRu8"
      },
      "source": [
        "Выполняю ресемплирование данных по одному часу"
      ]
    },
    {
      "cell_type": "code",
      "execution_count": 12,
      "metadata": {
        "colab": {
          "base_uri": "https://localhost:8080/"
        },
        "id": "y9H4wBULfRu8",
        "outputId": "f4159690-2a42-48fe-f6e9-2220d6031fb4"
      },
      "outputs": [
        {
          "output_type": "stream",
          "name": "stderr",
          "text": [
            "/tmp/ipython-input-2814516379.py:1: FutureWarning: 'H' is deprecated and will be removed in a future version, please use 'h' instead.\n",
            "  data = data.resample('1H').sum()\n"
          ]
        }
      ],
      "source": [
        "data = data.resample('1H').sum()"
      ]
    },
    {
      "cell_type": "markdown",
      "metadata": {
        "id": "7gPFzAHsfRu8"
      },
      "source": [
        "## Анализ"
      ]
    },
    {
      "cell_type": "markdown",
      "metadata": {
        "id": "DkgH5PJUfRu8"
      },
      "source": [
        "Строю график суммарного количества заказов по часам"
      ]
    },
    {
      "cell_type": "code",
      "execution_count": 13,
      "metadata": {
        "colab": {
          "base_uri": "https://localhost:8080/",
          "height": 739
        },
        "id": "v-UTNeGSfRu9",
        "outputId": "a19385ea-cc87-4d26-f4ab-c8f74a57f814"
      },
      "outputs": [
        {
          "output_type": "display_data",
          "data": {
            "text/plain": [
              "<Figure size 1200x800 with 1 Axes>"
            ],
            "image/png": "[encoded data removed]"
          },
          "metadata": {}
        }
      ],
      "source": [
        "ax = data.plot(figsize=(12, 8))\n",
        "\n",
        "ax.set_xlabel(\"Время\", fontsize=12)\n",
        "ax.set_ylabel(\"Количество заказов\", fontsize=12)\n",
        "\n",
        "ax.set_title(\"Количество заказов по времени\", fontsize=14)\n",
        "\n",
        "ax.grid(True)\n",
        "\n",
        "plt.show()"
      ]
    },
    {
      "cell_type": "markdown",
      "metadata": {
        "id": "NFlWZJ0pfRu9"
      },
      "source": [
        "График вышел слабо читаемым, чтобы это исправить строю новый график со скользящим средним"
      ]
    },
    {
      "cell_type": "markdown",
      "metadata": {
        "id": "tEfR5wtvfRu9"
      },
      "source": [
        "### Скользящее среднее"
      ]
    },
    {
      "cell_type": "code",
      "execution_count": 14,
      "metadata": {
        "id": "UTFcSoVwfRu9"
      },
      "outputs": [],
      "source": [
        "data['rolling_mean'] = data.rolling(24).mean()"
      ]
    },
    {
      "cell_type": "code",
      "execution_count": 15,
      "metadata": {
        "colab": {
          "base_uri": "https://localhost:8080/",
          "height": 739
        },
        "id": "4rUkWfnDfRvJ",
        "outputId": "376f3108-b575-4f11-cc6b-e8419f222cd8"
      },
      "outputs": [
        {
          "output_type": "display_data",
          "data": {
            "text/plain": [
              "<Figure size 1200x800 with 1 Axes>"
            ],
            "image/png": "[encoded data removed]"
          },
          "metadata": {}
        }
      ],
      "source": [
        "ax = data.plot(figsize=(12, 8))\n",
        "\n",
        "ax.set_xlabel(\"Время\", fontsize=12)\n",
        "ax.set_ylabel(\"Количество заказов\", fontsize=12)\n",
        "\n",
        "ax.set_title(\"Количество заказов по времени\", fontsize=14)\n",
        "\n",
        "ax.grid(True)\n",
        "\n",
        "plt.show()"
      ]
    },
    {
      "cell_type": "markdown",
      "metadata": {
        "id": "iEzshk-kfRvJ"
      },
      "source": [
        "Сейчас на графике видно, что среднее количество заказов плавно возрастает, самые большие значения среднего были в конце августа"
      ]
    },
    {
      "cell_type": "markdown",
      "metadata": {
        "id": "mi_hmnvzfRvJ"
      },
      "source": [
        "### Тренды и сезонность"
      ]
    },
    {
      "cell_type": "markdown",
      "metadata": {
        "id": "mM0VZzdxfRvK"
      },
      "source": [
        "Выполняю декомпозицию по тренду и сезонности"
      ]
    },
    {
      "cell_type": "code",
      "execution_count": 16,
      "metadata": {
        "id": "Q1H1D-DdfRvK"
      },
      "outputs": [],
      "source": [
        "data_clean = data.drop('rolling_mean', axis=1)\n",
        "decomposed = seasonal_decompose(data_clean)"
      ]
    },
    {
      "cell_type": "markdown",
      "metadata": {
        "id": "gaKgcmbVfRvK"
      },
      "source": [
        "Строю графики"
      ]
    },
    {
      "cell_type": "code",
      "execution_count": 17,
      "metadata": {
        "colab": {
          "base_uri": "https://localhost:8080/",
          "height": 739
        },
        "id": "4kKqVEXCfRvK",
        "outputId": "d209652a-8c42-49b2-d6c5-e54306281436"
      },
      "outputs": [
        {
          "output_type": "display_data",
          "data": {
            "text/plain": [
              "<Figure size 1200x800 with 1 Axes>"
            ],
            "image/png": "[encoded data removed]"
          },
          "metadata": {}
        }
      ],
      "source": [
        "ax = decomposed.trend.plot(figsize=(12, 8))\n",
        "\n",
        "ax.set_xlabel(\"Время\", fontsize=12)\n",
        "ax.set_ylabel(\"Количество заказов\", fontsize=12)\n",
        "\n",
        "ax.set_title(\"Количество заказов по времени\", fontsize=14)\n",
        "\n",
        "ax.grid(True)\n",
        "\n",
        "plt.show()"
      ]
    },
    {
      "cell_type": "markdown",
      "metadata": {
        "id": "dzIYLsYIfRvL"
      },
      "source": [
        "Тренд явно указывает на увеличение количества заказов с каждым месяцем, т.к. данные собраны не за год, то сложно отследить точную закономерность, но можно предположить, что большая часть людей возвращается с отпусков и поездок в конце лета, с этим и связано повышение спроса на такси из аэропорта"
      ]
    },
    {
      "cell_type": "code",
      "execution_count": 18,
      "metadata": {
        "scrolled": true,
        "colab": {
          "base_uri": "https://localhost:8080/",
          "height": 756
        },
        "id": "XXP3GWDgfRvL",
        "outputId": "51ff32bc-2d94-4c80-d6c3-42fa0b6fd5bb"
      },
      "outputs": [
        {
          "output_type": "display_data",
          "data": {
            "text/plain": [
              "<Figure size 1200x800 with 1 Axes>"
            ],
            "image/png": "[encoded data removed]"
          },
          "metadata": {}
        }
      ],
      "source": [
        "ax = decomposed.seasonal['2018-08-20':'2018-08-22'].plot(figsize=(12, 8))\n",
        "\n",
        "ax.set_xlabel(\"Время\", fontsize=12)\n",
        "ax.set_ylabel(\"Количество заказов\", fontsize=12)\n",
        "\n",
        "ax.set_title(\"Количество заказов по времени\", fontsize=14)\n",
        "\n",
        "ax.grid(True)\n",
        "\n",
        "plt.show()"
      ]
    },
    {
      "cell_type": "markdown",
      "metadata": {
        "id": "xSOycci-fRvL"
      },
      "source": [
        "График сезонности за 2 дня указывает на то, что такси чаще всего вызывают ближе к полуночи. Это может быть связано с тем, что общественный транспорт в эти часы уже не ходит. Так же есть пики после обеда и около полудня, скорее всего в эти часы прилетает большое количество людей"
      ]
    },
    {
      "cell_type": "markdown",
      "metadata": {
        "id": "a58SaHrhfRvM"
      },
      "source": [
        "## Обучение"
      ]
    },
    {
      "cell_type": "markdown",
      "metadata": {
        "id": "29LSAWgyfRvM"
      },
      "source": [
        "### Добавление новых признаков"
      ]
    },
    {
      "cell_type": "markdown",
      "metadata": {
        "id": "g9Ax611wfRvM"
      },
      "source": [
        "Прописываю функцию для добавления новых признаков в данные"
      ]
    },
    {
      "cell_type": "code",
      "execution_count": 19,
      "metadata": {
        "id": "ym6y2ytTfRvM"
      },
      "outputs": [],
      "source": [
        "def make_features(data, max_lag, rolling_mean_size):\n",
        "\n",
        "    data['hour'] = data.index.hour\n",
        "    data['dayofweek'] = data.index.dayofweek\n",
        "\n",
        "    for lag in range(1, max_lag + 1):\n",
        "        data['lag_{}'.format(lag)] = data['num_orders'].shift(lag)\n",
        "\n",
        "    data['rolling_mean'] = data['num_orders'].shift().rolling(rolling_mean_size).mean()\n"
      ]
    },
    {
      "cell_type": "markdown",
      "metadata": {
        "id": "Jp1zqLSffRvN"
      },
      "source": [
        "Добавляю новые признаки"
      ]
    },
    {
      "cell_type": "code",
      "execution_count": 20,
      "metadata": {
        "id": "NNPKa6gsfRvN"
      },
      "outputs": [],
      "source": [
        "make_features(data, 24, 24)"
      ]
    },
    {
      "cell_type": "code",
      "execution_count": 21,
      "metadata": {
        "colab": {
          "base_uri": "https://localhost:8080/",
          "height": 460
        },
        "id": "CdsGssgkfRvO",
        "outputId": "2d339687-9480-48cc-e36d-61691e17c07f"
      },
      "outputs": [
        {
          "output_type": "execute_result",
          "data": {
            "text/plain": [
              "                     num_orders  rolling_mean  hour  dayofweek  lag_1  lag_2  \\\n",
              "datetime                                                                       \n",
              "2018-03-01 00:00:00         124           NaN     0          3    NaN    NaN   \n",
              "2018-03-01 01:00:00          85           NaN     1          3  124.0    NaN   \n",
              "2018-03-01 02:00:00          71           NaN     2          3   85.0  124.0   \n",
              "2018-03-01 03:00:00          66           NaN     3          3   71.0   85.0   \n",
              "2018-03-01 04:00:00          43           NaN     4          3   66.0   71.0   \n",
              "\n",
              "                     lag_3  lag_4  lag_5  lag_6  ...  lag_15  lag_16  lag_17  \\\n",
              "datetime                                         ...                           \n",
              "2018-03-01 00:00:00    NaN    NaN    NaN    NaN  ...     NaN     NaN     NaN   \n",
              "2018-03-01 01:00:00    NaN    NaN    NaN    NaN  ...     NaN     NaN     NaN   \n",
              "2018-03-01 02:00:00    NaN    NaN    NaN    NaN  ...     NaN     NaN     NaN   \n",
              "2018-03-01 03:00:00  124.0    NaN    NaN    NaN  ...     NaN     NaN     NaN   \n",
              "2018-03-01 04:00:00   85.0  124.0    NaN    NaN  ...     NaN     NaN     NaN   \n",
              "\n",
              "                     lag_18  lag_19  lag_20  lag_21  lag_22  lag_23  lag_24  \n",
              "datetime                                                                     \n",
              "2018-03-01 00:00:00     NaN     NaN     NaN     NaN     NaN     NaN     NaN  \n",
              "2018-03-01 01:00:00     NaN     NaN     NaN     NaN     NaN     NaN     NaN  \n",
              "2018-03-01 02:00:00     NaN     NaN     NaN     NaN     NaN     NaN     NaN  \n",
              "2018-03-01 03:00:00     NaN     NaN     NaN     NaN     NaN     NaN     NaN  \n",
              "2018-03-01 04:00:00     NaN     NaN     NaN     NaN     NaN     NaN     NaN  \n",
              "\n",
              "[5 rows x 28 columns]"
            ],
            "text/html": [
              "\n",
              "  <div id=\"df-6771a247-74a2-41de-8bdd-13fb276cf912\" class=\"colab-df-container\">\n",
              "    <div>\n",
              "<style scoped>\n",
              "    .dataframe tbody tr th:only-of-type {\n",
              "        vertical-align: middle;\n",
              "    }\n",
              "\n",
              "    .dataframe tbody tr th {\n",
              "        vertical-align: top;\n",
              "    }\n",
              "\n",
              "    .dataframe thead th {\n",
              "        text-align: right;\n",
              "    }\n",
              "</style>\n",
              "<table border=\"1\" class=\"dataframe\">\n",
              "  <thead>\n",
              "    <tr style=\"text-align: right;\">\n",
              "      <th></th>\n",
              "      <th>num_orders</th>\n",
              "      <th>rolling_mean</th>\n",
              "      <th>hour</th>\n",
              "      <th>dayofweek</th>\n",
              "      <th>lag_1</th>\n",
              "      <th>lag_2</th>\n",
              "      <th>lag_3</th>\n",
              "      <th>lag_4</th>\n",
              "      <th>lag_5</th>\n",
              "      <th>lag_6</th>\n",
              "      <th>...</th>\n",
              "      <th>lag_15</th>\n",
              "      <th>lag_16</th>\n",
              "      <th>lag_17</th>\n",
              "      <th>lag_18</th>\n",
              "      <th>lag_19</th>\n",
              "      <th>lag_20</th>\n",
              "      <th>lag_21</th>\n",
              "      <th>lag_22</th>\n",
              "      <th>lag_23</th>\n",
              "      <th>lag_24</th>\n",
              "    </tr>\n",
              "    <tr>\n",
              "      <th>datetime</th>\n",
              "      <th></th>\n",
              "      <th></th>\n",
              "      <th></th>\n",
              "      <th></th>\n",
              "      <th></th>\n",
              "      <th></th>\n",
              "      <th></th>\n",
              "      <th></th>\n",
              "      <th></th>\n",
              "      <th></th>\n",
              "      <th></th>\n",
              "      <th></th>\n",
              "      <th></th>\n",
              "      <th></th>\n",
              "      <th></th>\n",
              "      <th></th>\n",
              "      <th></th>\n",
              "      <th></th>\n",
              "      <th></th>\n",
              "      <th></th>\n",
              "      <th></th>\n",
              "    </tr>\n",
              "  </thead>\n",
              "  <tbody>\n",
              "    <tr>\n",
              "      <th>2018-03-01 00:00:00</th>\n",
              "      <td>124</td>\n",
              "      <td>NaN</td>\n",
              "      <td>0</td>\n",
              "      <td>3</td>\n",
              "      <td>NaN</td>\n",
              "      <td>NaN</td>\n",
              "      <td>NaN</td>\n",
              "      <td>NaN</td>\n",
              "      <td>NaN</td>\n",
              "      <td>NaN</td>\n",
              "      <td>...</td>\n",
              "      <td>NaN</td>\n",
              "      <td>NaN</td>\n",
              "      <td>NaN</td>\n",
              "      <td>NaN</td>\n",
              "      <td>NaN</td>\n",
              "      <td>NaN</td>\n",
              "      <td>NaN</td>\n",
              "      <td>NaN</td>\n",
              "      <td>NaN</td>\n",
              "      <td>NaN</td>\n",
              "    </tr>\n",
              "    <tr>\n",
              "      <th>2018-03-01 01:00:00</th>\n",
              "      <td>85</td>\n",
              "      <td>NaN</td>\n",
              "      <td>1</td>\n",
              "      <td>3</td>\n",
              "      <td>124.0</td>\n",
              "      <td>NaN</td>\n",
              "      <td>NaN</td>\n",
              "      <td>NaN</td>\n",
              "      <td>NaN</td>\n",
              "      <td>NaN</td>\n",
              "      <td>...</td>\n",
              "      <td>NaN</td>\n",
              "      <td>NaN</td>\n",
              "      <td>NaN</td>\n",
              "      <td>NaN</td>\n",
              "      <td>NaN</td>\n",
              "      <td>NaN</td>\n",
              "      <td>NaN</td>\n",
              "      <td>NaN</td>\n",
              "      <td>NaN</td>\n",
              "      <td>NaN</td>\n",
              "    </tr>\n",
              "    <tr>\n",
              "      <th>2018-03-01 02:00:00</th>\n",
              "      <td>71</td>\n",
              "      <td>NaN</td>\n",
              "      <td>2</td>\n",
              "      <td>3</td>\n",
              "      <td>85.0</td>\n",
              "      <td>124.0</td>\n",
              "      <td>NaN</td>\n",
              "      <td>NaN</td>\n",
              "      <td>NaN</td>\n",
              "      <td>NaN</td>\n",
              "      <td>...</td>\n",
              "      <td>NaN</td>\n",
              "      <td>NaN</td>\n",
              "      <td>NaN</td>\n",
              "      <td>NaN</td>\n",
              "      <td>NaN</td>\n",
              "      <td>NaN</td>\n",
              "      <td>NaN</td>\n",
              "      <td>NaN</td>\n",
              "      <td>NaN</td>\n",
              "      <td>NaN</td>\n",
              "    </tr>\n",
              "    <tr>\n",
              "      <th>2018-03-01 03:00:00</th>\n",
              "      <td>66</td>\n",
              "      <td>NaN</td>\n",
              "      <td>3</td>\n",
              "      <td>3</td>\n",
              "      <td>71.0</td>\n",
              "      <td>85.0</td>\n",
              "      <td>124.0</td>\n",
              "      <td>NaN</td>\n",
              "      <td>NaN</td>\n",
              "      <td>NaN</td>\n",
              "      <td>...</td>\n",
              "      <td>NaN</td>\n",
              "      <td>NaN</td>\n",
              "      <td>NaN</td>\n",
              "      <td>NaN</td>\n",
              "      <td>NaN</td>\n",
              "      <td>NaN</td>\n",
              "      <td>NaN</td>\n",
              "      <td>NaN</td>\n",
              "      <td>NaN</td>\n",
              "      <td>NaN</td>\n",
              "    </tr>\n",
              "    <tr>\n",
              "      <th>2018-03-01 04:00:00</th>\n",
              "      <td>43</td>\n",
              "      <td>NaN</td>\n",
              "      <td>4</td>\n",
              "      <td>3</td>\n",
              "      <td>66.0</td>\n",
              "      <td>71.0</td>\n",
              "      <td>85.0</td>\n",
              "      <td>124.0</td>\n",
              "      <td>NaN</td>\n",
              "      <td>NaN</td>\n",
              "      <td>...</td>\n",
              "      <td>NaN</td>\n",
              "      <td>NaN</td>\n",
              "      <td>NaN</td>\n",
              "      <td>NaN</td>\n",
              "      <td>NaN</td>\n",
              "      <td>NaN</td>\n",
              "      <td>NaN</td>\n",
              "      <td>NaN</td>\n",
              "      <td>NaN</td>\n",
              "      <td>NaN</td>\n",
              "    </tr>\n",
              "  </tbody>\n",
              "</table>\n",
              "<p>5 rows × 28 columns</p>\n",
              "</div>\n",
              "    <div class=\"colab-df-buttons\">\n",
              "\n",
              "  <div class=\"colab-df-container\">\n",
              "    <button class=\"colab-df-convert\" onclick=\"convertToInteractive('df-6771a247-74a2-41de-8bdd-13fb276cf912')\"\n",
              "            title=\"Convert this dataframe to an interactive table.\"\n",
              "            style=\"display:none;\">\n",
              "\n",
              "  <svg xmlns=\"http://www.w3.org/2000/svg\" height=\"24px\" viewBox=\"0 -960 960 960\">\n",
              "    <path d=\"M120-120v-720h720v720H120Zm60-500h600v-160H180v160Zm220 220h160v-160H400v160Zm0 220h160v-160H400v160ZM180-400h160v-160H180v160Zm440 0h160v-160H620v160ZM180-180h160v-160H180v160Zm440 0h160v-160H620v160Z\"/>\n",
              "  </svg>\n",
              "    </button>\n",
              "\n",
              "  <style>\n",
              "    .colab-df-container {\n",
              "      display:flex;\n",
              "      gap: 12px;\n",
              "    }\n",
              "\n",
              "    .colab-df-convert {\n",
              "      background-color: #E8F0FE;\n",
              "      border: none;\n",
              "      border-radius: 50%;\n",
              "      cursor: pointer;\n",
              "      display: none;\n",
              "      fill: #1967D2;\n",
              "      height: 32px;\n",
              "      padding: 0 0 0 0;\n",
              "      width: 32px;\n",
              "    }\n",
              "\n",
              "    .colab-df-convert:hover {\n",
              "      background-color: #E2EBFA;\n",
              "      box-shadow: 0px 1px 2px rgba(60, 64, 67, 0.3), 0px 1px 3px 1px rgba(60, 64, 67, 0.15);\n",
              "      fill: #174EA6;\n",
              "    }\n",
              "\n",
              "    .colab-df-buttons div {\n",
              "      margin-bottom: 4px;\n",
              "    }\n",
              "\n",
              "    [theme=dark] .colab-df-convert {\n",
              "      background-color: #3B4455;\n",
              "      fill: #D2E3FC;\n",
              "    }\n",
              "\n",
              "    [theme=dark] .colab-df-convert:hover {\n",
              "      background-color: #434B5C;\n",
              "      box-shadow: 0px 1px 3px 1px rgba(0, 0, 0, 0.15);\n",
              "      filter: drop-shadow(0px 1px 2px rgba(0, 0, 0, 0.3));\n",
              "      fill: #FFFFFF;\n",
              "    }\n",
              "  </style>\n",
              "\n",
              "    <script>\n",
              "      const buttonEl =\n",
              "        document.querySelector('#df-6771a247-74a2-41de-8bdd-13fb276cf912 button.colab-df-convert');\n",
              "      buttonEl.style.display =\n",
              "        google.colab.kernel.accessAllowed ? 'block' : 'none';\n",
              "\n",
              "      async function convertToInteractive(key) {\n",
              "        const element = document.querySelector('#df-6771a247-74a2-41de-8bdd-13fb276cf912');\n",
              "        const dataTable =\n",
              "          await google.colab.kernel.invokeFunction('convertToInteractive',\n",
              "                                                    [key], {});\n",
              "        if (!dataTable) return;\n",
              "\n",
              "        const docLinkHtml = 'Like what you see? Visit the ' +\n",
              "          '<a target=\"_blank\" href=https://colab.research.google.com/notebooks/data_table.ipynb>data table notebook</a>'\n",
              "          + ' to learn more about interactive tables.';\n",
              "        element.innerHTML = '';\n",
              "        dataTable['output_type'] = 'display_data';\n",
              "        await google.colab.output.renderOutput(dataTable, element);\n",
              "        const docLink = document.createElement('div');\n",
              "        docLink.innerHTML = docLinkHtml;\n",
              "        element.appendChild(docLink);\n",
              "      }\n",
              "    </script>\n",
              "  </div>\n",
              "\n",
              "\n",
              "    <div id=\"df-07c8d6fe-bb3d-4b99-9a83-9f6e98d32af9\">\n",
              "      <button class=\"colab-df-quickchart\" onclick=\"quickchart('df-07c8d6fe-bb3d-4b99-9a83-9f6e98d32af9')\"\n",
              "                title=\"Suggest charts\"\n",
              "                style=\"display:none;\">\n",
              "\n",
              "<svg xmlns=\"http://www.w3.org/2000/svg\" height=\"24px\"viewBox=\"0 0 24 24\"\n",
              "     width=\"24px\">\n",
              "    <g>\n",
              "        <path d=\"M19 3H5c-1.1 0-2 .9-2 2v14c0 1.1.9 2 2 2h14c1.1 0 2-.9 2-2V5c0-1.1-.9-2-2-2zM9 17H7v-7h2v7zm4 0h-2V7h2v10zm4 0h-2v-4h2v4z\"/>\n",
              "    </g>\n",
              "</svg>\n",
              "      </button>\n",
              "\n",
              "<style>\n",
              "  .colab-df-quickchart {\n",
              "      --bg-color: #E8F0FE;\n",
              "      --fill-color: #1967D2;\n",
              "      --hover-bg-color: #E2EBFA;\n",
              "      --hover-fill-color: #174EA6;\n",
              "      --disabled-fill-color: #AAA;\n",
              "      --disabled-bg-color: #DDD;\n",
              "  }\n",
              "\n",
              "  [theme=dark] .colab-df-quickchart {\n",
              "      --bg-color: #3B4455;\n",
              "      --fill-color: #D2E3FC;\n",
              "      --hover-bg-color: #434B5C;\n",
              "      --hover-fill-color: #FFFFFF;\n",
              "      --disabled-bg-color: #3B4455;\n",
              "      --disabled-fill-color: #666;\n",
              "  }\n",
              "\n",
              "  .colab-df-quickchart {\n",
              "    background-color: var(--bg-color);\n",
              "    border: none;\n",
              "    border-radius: 50%;\n",
              "    cursor: pointer;\n",
              "    display: none;\n",
              "    fill: var(--fill-color);\n",
              "    height: 32px;\n",
              "    padding: 0;\n",
              "    width: 32px;\n",
              "  }\n",
              "\n",
              "  .colab-df-quickchart:hover {\n",
              "    background-color: var(--hover-bg-color);\n",
              "    box-shadow: 0 1px 2px rgba(60, 64, 67, 0.3), 0 1px 3px 1px rgba(60, 64, 67, 0.15);\n",
              "    fill: var(--button-hover-fill-color);\n",
              "  }\n",
              "\n",
              "  .colab-df-quickchart-complete:disabled,\n",
              "  .colab-df-quickchart-complete:disabled:hover {\n",
              "    background-color: var(--disabled-bg-color);\n",
              "    fill: var(--disabled-fill-color);\n",
              "    box-shadow: none;\n",
              "  }\n",
              "\n",
              "  .colab-df-spinner {\n",
              "    border: 2px solid var(--fill-color);\n",
              "    border-color: transparent;\n",
              "    border-bottom-color: var(--fill-color);\n",
              "    animation:\n",
              "      spin 1s steps(1) infinite;\n",
              "  }\n",
              "\n",
              "  @keyframes spin {\n",
              "    0% {\n",
              "      border-color: transparent;\n",
              "      border-bottom-color: var(--fill-color);\n",
              "      border-left-color: var(--fill-color);\n",
              "    }\n",
              "    20% {\n",
              "      border-color: transparent;\n",
              "      border-left-color: var(--fill-color);\n",
              "      border-top-color: var(--fill-color);\n",
              "    }\n",
              "    30% {\n",
              "      border-color: transparent;\n",
              "      border-left-color: var(--fill-color);\n",
              "      border-top-color: var(--fill-color);\n",
              "      border-right-color: var(--fill-color);\n",
              "    }\n",
              "    40% {\n",
              "      border-color: transparent;\n",
              "      border-right-color: var(--fill-color);\n",
              "      border-top-color: var(--fill-color);\n",
              "    }\n",
              "    60% {\n",
              "      border-color: transparent;\n",
              "      border-right-color: var(--fill-color);\n",
              "    }\n",
              "    80% {\n",
              "      border-color: transparent;\n",
              "      border-right-color: var(--fill-color);\n",
              "      border-bottom-color: var(--fill-color);\n",
              "    }\n",
              "    90% {\n",
              "      border-color: transparent;\n",
              "      border-bottom-color: var(--fill-color);\n",
              "    }\n",
              "  }\n",
              "</style>\n",
              "\n",
              "      <script>\n",
              "        async function quickchart(key) {\n",
              "          const quickchartButtonEl =\n",
              "            document.querySelector('#' + key + ' button');\n",
              "          quickchartButtonEl.disabled = true;  // To prevent multiple clicks.\n",
              "          quickchartButtonEl.classList.add('colab-df-spinner');\n",
              "          try {\n",
              "            const charts = await google.colab.kernel.invokeFunction(\n",
              "                'suggestCharts', [key], {});\n",
              "          } catch (error) {\n",
              "            console.error('Error during call to suggestCharts:', error);\n",
              "          }\n",
              "          quickchartButtonEl.classList.remove('colab-df-spinner');\n",
              "          quickchartButtonEl.classList.add('colab-df-quickchart-complete');\n",
              "        }\n",
              "        (() => {\n",
              "          let quickchartButtonEl =\n",
              "            document.querySelector('#df-07c8d6fe-bb3d-4b99-9a83-9f6e98d32af9 button');\n",
              "          quickchartButtonEl.style.display =\n",
              "            google.colab.kernel.accessAllowed ? 'block' : 'none';\n",
              "        })();\n",
              "      </script>\n",
              "    </div>\n",
              "    </div>\n",
              "  </div>\n"
            ],
            "application/vnd.google.colaboratory.intrinsic+json": {
              "type": "dataframe",
              "variable_name": "data"
            }
          },
          "metadata": {},
          "execution_count": 21
        }
      ],
      "source": [
        "data.head()"
      ]
    },
    {
      "cell_type": "markdown",
      "metadata": {
        "id": "Rcr5GtcqfRvO"
      },
      "source": [
        "### Подготовка данных"
      ]
    },
    {
      "cell_type": "markdown",
      "metadata": {
        "id": "FtuYlQDCfRvO"
      },
      "source": [
        "Подготавливаю данные для обучения, удаляю строки с пропущенными значениями из тренировочной выборки"
      ]
    },
    {
      "cell_type": "code",
      "execution_count": 22,
      "metadata": {
        "id": "P3dn0iBIfRvO"
      },
      "outputs": [],
      "source": [
        "train, test = train_test_split(data, shuffle=False, test_size=0.1)\n",
        "train = train.dropna()\n",
        "\n",
        "X_train = train.drop('num_orders', axis=1)\n",
        "y_train = train['num_orders']\n",
        "X_test = test.drop('num_orders', axis=1)\n",
        "y_test = test['num_orders']\n"
      ]
    },
    {
      "cell_type": "code",
      "execution_count": 23,
      "metadata": {
        "id": "2MszO_DCfRvP"
      },
      "outputs": [],
      "source": [
        "lag_columns = [col for col in X_train.columns if col.startswith('lag_')]\n",
        "num_columns = ['rolling_mean'] + lag_columns\n",
        "ohe_columns = ['hour', 'dayofweek']"
      ]
    },
    {
      "cell_type": "code",
      "execution_count": 24,
      "metadata": {
        "id": "H7U9sxfwfRvP"
      },
      "outputs": [],
      "source": [
        "ohe_pipe = Pipeline(\n",
        "    [\n",
        "        ('simpleImputer_ohe', SimpleImputer(missing_values=np.nan, strategy='most_frequent')),\n",
        "        ('ohe', OneHotEncoder(drop='first', handle_unknown='ignore', sparse_output=False))\n",
        "    ]\n",
        ")"
      ]
    },
    {
      "cell_type": "code",
      "execution_count": 25,
      "metadata": {
        "id": "8oFnKJPhfRvP"
      },
      "outputs": [],
      "source": [
        "data_preprocessor = ColumnTransformer(\n",
        "    [\n",
        "     ('ohe', ohe_pipe, ohe_columns),\n",
        "     ('num', RobustScaler(), num_columns)\n",
        "    ],\n",
        "    remainder='passthrough'\n",
        ")"
      ]
    },
    {
      "cell_type": "code",
      "execution_count": 26,
      "metadata": {
        "id": "1265WiL8fRvP"
      },
      "outputs": [],
      "source": [
        "pipe_final = Pipeline([\n",
        "    ('preprocessor', data_preprocessor),\n",
        "    ('models', LinearRegression())\n",
        "])"
      ]
    },
    {
      "cell_type": "code",
      "execution_count": 27,
      "metadata": {
        "id": "DaZedHsEfRvQ"
      },
      "outputs": [],
      "source": [
        "param_grid = [\n",
        "    {\n",
        "        'models': [LGBMRegressor(verbose=-1)],\n",
        "        'models__max_depth': [2, 4, 7, 1],\n",
        "        'models__n_estimators': [100, 200, 300],\n",
        "        'preprocessor__num': ['passthrough']\n",
        "    },\n",
        "\n",
        "    {\n",
        "        'models': [LinearRegression()],\n",
        "        'preprocessor__num': [StandardScaler(), MinMaxScaler(), RobustScaler()]\n",
        "    },\n",
        "\n",
        "    {\n",
        "        'models': [CatBoostRegressor(verbose=0)],\n",
        "        'models__iterations': [300, 500],\n",
        "        'models__depth': [4, 6, 8],\n",
        "        'preprocessor__num': ['passthrough']\n",
        "    }\n",
        "]"
      ]
    },
    {
      "cell_type": "code",
      "execution_count": 28,
      "metadata": {
        "colab": {
          "base_uri": "https://localhost:8080/",
          "height": 339
        },
        "id": "xEPoTh-gfRvQ",
        "outputId": "6d8d08f3-9364-405f-e67a-c79d335741ac"
      },
      "outputs": [
        {
          "output_type": "stream",
          "name": "stdout",
          "text": [
            "Fitting 5 folds for each of 21 candidates, totalling 105 fits\n"
          ]
        },
        {
          "output_type": "execute_result",
          "data": {
            "text/plain": [
              "GridSearchCV(cv=TimeSeriesSplit(gap=0, max_train_size=None, n_splits=5, test_size=None),\n",
              "             estimator=Pipeline(steps=[('preprocessor',\n",
              "                                        ColumnTransformer(remainder='passthrough',\n",
              "                                                          transformers=[('ohe',\n",
              "                                                                         Pipeline(steps=[('simpleImputer_ohe',\n",
              "                                                                                          SimpleImputer(strategy='most_frequent')),\n",
              "                                                                                         ('ohe',\n",
              "                                                                                          OneHotEncoder(drop='first',\n",
              "                                                                                                        handle_unknown='ignore',\n",
              "                                                                                                        sparse_output=False))]),...\n",
              "                          'models__n_estimators': [100, 200, 300],\n",
              "                          'preprocessor__num': ['passthrough']},\n",
              "                         {'models': [LinearRegression()],\n",
              "                          'preprocessor__num': [StandardScaler(),\n",
              "                                                MinMaxScaler(),\n",
              "                                                RobustScaler()]},\n",
              "                         {'models': [<catboost.core.CatBoostRegressor object at 0x7cef5c7bf860>],\n",
              "                          'models__depth': [4, 6, 8],\n",
              "                          'models__iterations': [300, 500],\n",
              "                          'preprocessor__num': ['passthrough']}],\n",
              "             scoring='neg_root_mean_squared_error', verbose=1)"
            ],
            "text/html": [
              "<style>#sk-container-id-1 {\n",
              "  /* Definition of color scheme common for light and dark mode */\n",
              "  --sklearn-color-text: #000;\n",
              "  --sklearn-color-text-muted: #666;\n",
              "  --sklearn-color-line: gray;\n",
              "  /* Definition of color scheme for unfitted estimators */\n",
              "  --sklearn-color-unfitted-level-0: #fff5e6;\n",
              "  --sklearn-color-unfitted-level-1: #f6e4d2;\n",
              "  --sklearn-color-unfitted-level-2: #ffe0b3;\n",
              "  --sklearn-color-unfitted-level-3: chocolate;\n",
              "  /* Definition of color scheme for fitted estimators */\n",
              "  --sklearn-color-fitted-level-0: #f0f8ff;\n",
              "  --sklearn-color-fitted-level-1: #d4ebff;\n",
              "  --sklearn-color-fitted-level-2: #b3dbfd;\n",
              "  --sklearn-color-fitted-level-3: cornflowerblue;\n",
              "\n",
              "  /* Specific color for light theme */\n",
              "  --sklearn-color-text-on-default-background: var(--sg-text-color, var(--theme-code-foreground, var(--jp-content-font-color1, black)));\n",
              "  --sklearn-color-background: var(--sg-background-color, var(--theme-background, var(--jp-layout-color0, white)));\n",
              "  --sklearn-color-border-box: var(--sg-text-color, var(--theme-code-foreground, var(--jp-content-font-color1, black)));\n",
              "  --sklearn-color-icon: #696969;\n",
              "\n",
              "  @media (prefers-color-scheme: dark) {\n",
              "    /* Redefinition of color scheme for dark theme */\n",
              "    --sklearn-color-text-on-default-background: var(--sg-text-color, var(--theme-code-foreground, var(--jp-content-font-color1, white)));\n",
              "    --sklearn-color-background: var(--sg-background-color, var(--theme-background, var(--jp-layout-color0, #111)));\n",
              "    --sklearn-color-border-box: var(--sg-text-color, var(--theme-code-foreground, var(--jp-content-font-color1, white)));\n",
              "    --sklearn-color-icon: #878787;\n",
              "  }\n",
              "}\n",
              "\n",
              "#sk-container-id-1 {\n",
              "  color: var(--sklearn-color-text);\n",
              "}\n",
              "\n",
              "#sk-container-id-1 pre {\n",
              "  padding: 0;\n",
              "}\n",
              "\n",
              "#sk-container-id-1 input.sk-hidden--visually {\n",
              "  border: 0;\n",
              "  clip: rect(1px 1px 1px 1px);\n",
              "  clip: rect(1px, 1px, 1px, 1px);\n",
              "  height: 1px;\n",
              "  margin: -1px;\n",
              "  overflow: hidden;\n",
              "  padding: 0;\n",
              "  position: absolute;\n",
              "  width: 1px;\n",
              "}\n",
              "\n",
              "#sk-container-id-1 div.sk-dashed-wrapped {\n",
              "  border: 1px dashed var(--sklearn-color-line);\n",
              "  margin: 0 0.4em 0.5em 0.4em;\n",
              "  box-sizing: border-box;\n",
              "  padding-bottom: 0.4em;\n",
              "  background-color: var(--sklearn-color-background);\n",
              "}\n",
              "\n",
              "#sk-container-id-1 div.sk-container {\n",
              "  /* jupyter's `normalize.less` sets `[hidden] { display: none; }`\n",
              "     but bootstrap.min.css set `[hidden] { display: none !important; }`\n",
              "     so we also need the `!important` here to be able to override the\n",
              "     default hidden behavior on the sphinx rendered scikit-learn.org.\n",
              "     See: https://github.com/scikit-learn/scikit-learn/issues/21755 */\n",
              "  display: inline-block !important;\n",
              "  position: relative;\n",
              "}\n",
              "\n",
              "#sk-container-id-1 div.sk-text-repr-fallback {\n",
              "  display: none;\n",
              "}\n",
              "\n",
              "div.sk-parallel-item,\n",
              "div.sk-serial,\n",
              "div.sk-item {\n",
              "  /* draw centered vertical line to link estimators */\n",
              "  background-image: linear-gradient(var(--sklearn-color-text-on-default-background), var(--sklearn-color-text-on-default-background));\n",
              "  background-size: 2px 100%;\n",
              "  background-repeat: no-repeat;\n",
              "  background-position: center center;\n",
              "}\n",
              "\n",
              "/* Parallel-specific style estimator block */\n",
              "\n",
              "#sk-container-id-1 div.sk-parallel-item::after {\n",
              "  content: \"\";\n",
              "  width: 100%;\n",
              "  border-bottom: 2px solid var(--sklearn-color-text-on-default-background);\n",
              "  flex-grow: 1;\n",
              "}\n",
              "\n",
              "#sk-container-id-1 div.sk-parallel {\n",
              "  display: flex;\n",
              "  align-items: stretch;\n",
              "  justify-content: center;\n",
              "  background-color: var(--sklearn-color-background);\n",
              "  position: relative;\n",
              "}\n",
              "\n",
              "#sk-container-id-1 div.sk-parallel-item {\n",
              "  display: flex;\n",
              "  flex-direction: column;\n",
              "}\n",
              "\n",
              "#sk-container-id-1 div.sk-parallel-item:first-child::after {\n",
              "  align-self: flex-end;\n",
              "  width: 50%;\n",
              "}\n",
              "\n",
              "#sk-container-id-1 div.sk-parallel-item:last-child::after {\n",
              "  align-self: flex-start;\n",
              "  width: 50%;\n",
              "}\n",
              "\n",
              "#sk-container-id-1 div.sk-parallel-item:only-child::after {\n",
              "  width: 0;\n",
              "}\n",
              "\n",
              "/* Serial-specific style estimator block */\n",
              "\n",
              "#sk-container-id-1 div.sk-serial {\n",
              "  display: flex;\n",
              "  flex-direction: column;\n",
              "  align-items: center;\n",
              "  background-color: var(--sklearn-color-background);\n",
              "  padding-right: 1em;\n",
              "  padding-left: 1em;\n",
              "}\n",
              "\n",
              "\n",
              "/* Toggleable style: style used for estimator/Pipeline/ColumnTransformer box that is\n",
              "clickable and can be expanded/collapsed.\n",
              "- Pipeline and ColumnTransformer use this feature and define the default style\n",
              "- Estimators will overwrite some part of the style using the `sk-estimator` class\n",
              "*/\n",
              "\n",
              "/* Pipeline and ColumnTransformer style (default) */\n",
              "\n",
              "#sk-container-id-1 div.sk-toggleable {\n",
              "  /* Default theme specific background. It is overwritten whether we have a\n",
              "  specific estimator or a Pipeline/ColumnTransformer */\n",
              "  background-color: var(--sklearn-color-background);\n",
              "}\n",
              "\n",
              "/* Toggleable label */\n",
              "#sk-container-id-1 label.sk-toggleable__label {\n",
              "  cursor: pointer;\n",
              "  display: flex;\n",
              "  width: 100%;\n",
              "  margin-bottom: 0;\n",
              "  padding: 0.5em;\n",
              "  box-sizing: border-box;\n",
              "  text-align: center;\n",
              "  align-items: start;\n",
              "  justify-content: space-between;\n",
              "  gap: 0.5em;\n",
              "}\n",
              "\n",
              "#sk-container-id-1 label.sk-toggleable__label .caption {\n",
              "  font-size: 0.6rem;\n",
              "  font-weight: lighter;\n",
              "  color: var(--sklearn-color-text-muted);\n",
              "}\n",
              "\n",
              "#sk-container-id-1 label.sk-toggleable__label-arrow:before {\n",
              "  /* Arrow on the left of the label */\n",
              "  content: \"▸\";\n",
              "  float: left;\n",
              "  margin-right: 0.25em;\n",
              "  color: var(--sklearn-color-icon);\n",
              "}\n",
              "\n",
              "#sk-container-id-1 label.sk-toggleable__label-arrow:hover:before {\n",
              "  color: var(--sklearn-color-text);\n",
              "}\n",
              "\n",
              "/* Toggleable content - dropdown */\n",
              "\n",
              "#sk-container-id-1 div.sk-toggleable__content {\n",
              "  display: none;\n",
              "  text-align: left;\n",
              "  /* unfitted */\n",
              "  background-color: var(--sklearn-color-unfitted-level-0);\n",
              "}\n",
              "\n",
              "#sk-container-id-1 div.sk-toggleable__content.fitted {\n",
              "  /* fitted */\n",
              "  background-color: var(--sklearn-color-fitted-level-0);\n",
              "}\n",
              "\n",
              "#sk-container-id-1 div.sk-toggleable__content pre {\n",
              "  margin: 0.2em;\n",
              "  border-radius: 0.25em;\n",
              "  color: var(--sklearn-color-text);\n",
              "  /* unfitted */\n",
              "  background-color: var(--sklearn-color-unfitted-level-0);\n",
              "}\n",
              "\n",
              "#sk-container-id-1 div.sk-toggleable__content.fitted pre {\n",
              "  /* unfitted */\n",
              "  background-color: var(--sklearn-color-fitted-level-0);\n",
              "}\n",
              "\n",
              "#sk-container-id-1 input.sk-toggleable__control:checked~div.sk-toggleable__content {\n",
              "  /* Expand drop-down */\n",
              "  display: block;\n",
              "  width: 100%;\n",
              "  overflow: visible;\n",
              "}\n",
              "\n",
              "#sk-container-id-1 input.sk-toggleable__control:checked~label.sk-toggleable__label-arrow:before {\n",
              "  content: \"▾\";\n",
              "}\n",
              "\n",
              "/* Pipeline/ColumnTransformer-specific style */\n",
              "\n",
              "#sk-container-id-1 div.sk-label input.sk-toggleable__control:checked~label.sk-toggleable__label {\n",
              "  color: var(--sklearn-color-text);\n",
              "  background-color: var(--sklearn-color-unfitted-level-2);\n",
              "}\n",
              "\n",
              "#sk-container-id-1 div.sk-label.fitted input.sk-toggleable__control:checked~label.sk-toggleable__label {\n",
              "  background-color: var(--sklearn-color-fitted-level-2);\n",
              "}\n",
              "\n",
              "/* Estimator-specific style */\n",
              "\n",
              "/* Colorize estimator box */\n",
              "#sk-container-id-1 div.sk-estimator input.sk-toggleable__control:checked~label.sk-toggleable__label {\n",
              "  /* unfitted */\n",
              "  background-color: var(--sklearn-color-unfitted-level-2);\n",
              "}\n",
              "\n",
              "#sk-container-id-1 div.sk-estimator.fitted input.sk-toggleable__control:checked~label.sk-toggleable__label {\n",
              "  /* fitted */\n",
              "  background-color: var(--sklearn-color-fitted-level-2);\n",
              "}\n",
              "\n",
              "#sk-container-id-1 div.sk-label label.sk-toggleable__label,\n",
              "#sk-container-id-1 div.sk-label label {\n",
              "  /* The background is the default theme color */\n",
              "  color: var(--sklearn-color-text-on-default-background);\n",
              "}\n",
              "\n",
              "/* On hover, darken the color of the background */\n",
              "#sk-container-id-1 div.sk-label:hover label.sk-toggleable__label {\n",
              "  color: var(--sklearn-color-text);\n",
              "  background-color: var(--sklearn-color-unfitted-level-2);\n",
              "}\n",
              "\n",
              "/* Label box, darken color on hover, fitted */\n",
              "#sk-container-id-1 div.sk-label.fitted:hover label.sk-toggleable__label.fitted {\n",
              "  color: var(--sklearn-color-text);\n",
              "  background-color: var(--sklearn-color-fitted-level-2);\n",
              "}\n",
              "\n",
              "/* Estimator label */\n",
              "\n",
              "#sk-container-id-1 div.sk-label label {\n",
              "  font-family: monospace;\n",
              "  font-weight: bold;\n",
              "  display: inline-block;\n",
              "  line-height: 1.2em;\n",
              "}\n",
              "\n",
              "#sk-container-id-1 div.sk-label-container {\n",
              "  text-align: center;\n",
              "}\n",
              "\n",
              "/* Estimator-specific */\n",
              "#sk-container-id-1 div.sk-estimator {\n",
              "  font-family: monospace;\n",
              "  border: 1px dotted var(--sklearn-color-border-box);\n",
              "  border-radius: 0.25em;\n",
              "  box-sizing: border-box;\n",
              "  margin-bottom: 0.5em;\n",
              "  /* unfitted */\n",
              "  background-color: var(--sklearn-color-unfitted-level-0);\n",
              "}\n",
              "\n",
              "#sk-container-id-1 div.sk-estimator.fitted {\n",
              "  /* fitted */\n",
              "  background-color: var(--sklearn-color-fitted-level-0);\n",
              "}\n",
              "\n",
              "/* on hover */\n",
              "#sk-container-id-1 div.sk-estimator:hover {\n",
              "  /* unfitted */\n",
              "  background-color: var(--sklearn-color-unfitted-level-2);\n",
              "}\n",
              "\n",
              "#sk-container-id-1 div.sk-estimator.fitted:hover {\n",
              "  /* fitted */\n",
              "  background-color: var(--sklearn-color-fitted-level-2);\n",
              "}\n",
              "\n",
              "/* Specification for estimator info (e.g. \"i\" and \"?\") */\n",
              "\n",
              "/* Common style for \"i\" and \"?\" */\n",
              "\n",
              ".sk-estimator-doc-link,\n",
              "a:link.sk-estimator-doc-link,\n",
              "a:visited.sk-estimator-doc-link {\n",
              "  float: right;\n",
              "  font-size: smaller;\n",
              "  line-height: 1em;\n",
              "  font-family: monospace;\n",
              "  background-color: var(--sklearn-color-background);\n",
              "  border-radius: 1em;\n",
              "  height: 1em;\n",
              "  width: 1em;\n",
              "  text-decoration: none !important;\n",
              "  margin-left: 0.5em;\n",
              "  text-align: center;\n",
              "  /* unfitted */\n",
              "  border: var(--sklearn-color-unfitted-level-1) 1pt solid;\n",
              "  color: var(--sklearn-color-unfitted-level-1);\n",
              "}\n",
              "\n",
              ".sk-estimator-doc-link.fitted,\n",
              "a:link.sk-estimator-doc-link.fitted,\n",
              "a:visited.sk-estimator-doc-link.fitted {\n",
              "  /* fitted */\n",
              "  border: var(--sklearn-color-fitted-level-1) 1pt solid;\n",
              "  color: var(--sklearn-color-fitted-level-1);\n",
              "}\n",
              "\n",
              "/* On hover */\n",
              "div.sk-estimator:hover .sk-estimator-doc-link:hover,\n",
              ".sk-estimator-doc-link:hover,\n",
              "div.sk-label-container:hover .sk-estimator-doc-link:hover,\n",
              ".sk-estimator-doc-link:hover {\n",
              "  /* unfitted */\n",
              "  background-color: var(--sklearn-color-unfitted-level-3);\n",
              "  color: var(--sklearn-color-background);\n",
              "  text-decoration: none;\n",
              "}\n",
              "\n",
              "div.sk-estimator.fitted:hover .sk-estimator-doc-link.fitted:hover,\n",
              ".sk-estimator-doc-link.fitted:hover,\n",
              "div.sk-label-container:hover .sk-estimator-doc-link.fitted:hover,\n",
              ".sk-estimator-doc-link.fitted:hover {\n",
              "  /* fitted */\n",
              "  background-color: var(--sklearn-color-fitted-level-3);\n",
              "  color: var(--sklearn-color-background);\n",
              "  text-decoration: none;\n",
              "}\n",
              "\n",
              "/* Span, style for the box shown on hovering the info icon */\n",
              ".sk-estimator-doc-link span {\n",
              "  display: none;\n",
              "  z-index: 9999;\n",
              "  position: relative;\n",
              "  font-weight: normal;\n",
              "  right: .2ex;\n",
              "  padding: .5ex;\n",
              "  margin: .5ex;\n",
              "  width: min-content;\n",
              "  min-width: 20ex;\n",
              "  max-width: 50ex;\n",
              "  color: var(--sklearn-color-text);\n",
              "  box-shadow: 2pt 2pt 4pt #999;\n",
              "  /* unfitted */\n",
              "  background: var(--sklearn-color-unfitted-level-0);\n",
              "  border: .5pt solid var(--sklearn-color-unfitted-level-3);\n",
              "}\n",
              "\n",
              ".sk-estimator-doc-link.fitted span {\n",
              "  /* fitted */\n",
              "  background: var(--sklearn-color-fitted-level-0);\n",
              "  border: var(--sklearn-color-fitted-level-3);\n",
              "}\n",
              "\n",
              ".sk-estimator-doc-link:hover span {\n",
              "  display: block;\n",
              "}\n",
              "\n",
              "/* \"?\"-specific style due to the `<a>` HTML tag */\n",
              "\n",
              "#sk-container-id-1 a.estimator_doc_link {\n",
              "  float: right;\n",
              "  font-size: 1rem;\n",
              "  line-height: 1em;\n",
              "  font-family: monospace;\n",
              "  background-color: var(--sklearn-color-background);\n",
              "  border-radius: 1rem;\n",
              "  height: 1rem;\n",
              "  width: 1rem;\n",
              "  text-decoration: none;\n",
              "  /* unfitted */\n",
              "  color: var(--sklearn-color-unfitted-level-1);\n",
              "  border: var(--sklearn-color-unfitted-level-1) 1pt solid;\n",
              "}\n",
              "\n",
              "#sk-container-id-1 a.estimator_doc_link.fitted {\n",
              "  /* fitted */\n",
              "  border: var(--sklearn-color-fitted-level-1) 1pt solid;\n",
              "  color: var(--sklearn-color-fitted-level-1);\n",
              "}\n",
              "\n",
              "/* On hover */\n",
              "#sk-container-id-1 a.estimator_doc_link:hover {\n",
              "  /* unfitted */\n",
              "  background-color: var(--sklearn-color-unfitted-level-3);\n",
              "  color: var(--sklearn-color-background);\n",
              "  text-decoration: none;\n",
              "}\n",
              "\n",
              "#sk-container-id-1 a.estimator_doc_link.fitted:hover {\n",
              "  /* fitted */\n",
              "  background-color: var(--sklearn-color-fitted-level-3);\n",
              "}\n",
              "\n",
              ".estimator-table summary {\n",
              "    padding: .5rem;\n",
              "    font-family: monospace;\n",
              "    cursor: pointer;\n",
              "}\n",
              "\n",
              ".estimator-table details[open] {\n",
              "    padding-left: 0.1rem;\n",
              "    padding-right: 0.1rem;\n",
              "    padding-bottom: 0.3rem;\n",
              "}\n",
              "\n",
              ".estimator-table .parameters-table {\n",
              "    margin-left: auto !important;\n",
              "    margin-right: auto !important;\n",
              "}\n",
              "\n",
              ".estimator-table .parameters-table tr:nth-child(odd) {\n",
              "    background-color: #fff;\n",
              "}\n",
              "\n",
              ".estimator-table .parameters-table tr:nth-child(even) {\n",
              "    background-color: #f6f6f6;\n",
              "}\n",
              "\n",
              ".estimator-table .parameters-table tr:hover {\n",
              "    background-color: #e0e0e0;\n",
              "}\n",
              "\n",
              ".estimator-table table td {\n",
              "    border: 1px solid rgba(106, 105, 104, 0.232);\n",
              "}\n",
              "\n",
              ".user-set td {\n",
              "    color:rgb(255, 94, 0);\n",
              "    text-align: left;\n",
              "}\n",
              "\n",
              ".user-set td.value pre {\n",
              "    color:rgb(255, 94, 0) !important;\n",
              "    background-color: transparent !important;\n",
              "}\n",
              "\n",
              ".default td {\n",
              "    color: black;\n",
              "    text-align: left;\n",
              "}\n",
              "\n",
              ".user-set td i,\n",
              ".default td i {\n",
              "    color: black;\n",
              "}\n",
              "\n",
              ".copy-paste-icon {\n",
              "    background-image: url(data:image/svg+xml;base64,PHN2ZyB4bWxucz0iaHR0cDovL3d3dy53My5vcmcvMjAwMC9zdmciIHZpZXdCb3g9IjAgMCA0NDggNTEyIj48IS0tIUZvbnQgQXdlc29tZSBGcmVlIDYuNy4yIGJ5IEBmb250YXdlc29tZSAtIGh0dHBzOi8vZm9udGF3ZXNvbWUuY29tIExpY2Vuc2UgLSBodHRwczovL2ZvbnRhd2Vzb21lLmNvbS9saWNlbnNlL2ZyZWUgQ29weXJpZ2h0IDIwMjUgRm9udGljb25zLCBJbmMuLS0+PHBhdGggZD0iTTIwOCAwTDMzMi4xIDBjMTIuNyAwIDI0LjkgNS4xIDMzLjkgMTQuMWw2Ny45IDY3LjljOSA5IDE0LjEgMjEuMiAxNC4xIDMzLjlMNDQ4IDMzNmMwIDI2LjUtMjEuNSA0OC00OCA0OGwtMTkyIDBjLTI2LjUgMC00OC0yMS41LTQ4LTQ4bDAtMjg4YzAtMjYuNSAyMS41LTQ4IDQ4LTQ4ek00OCAxMjhsODAgMCAwIDY0LTY0IDAgMCAyNTYgMTkyIDAgMC0zMiA2NCAwIDAgNDhjMCAyNi41LTIxLjUgNDgtNDggNDhMNDggNTEyYy0yNi41IDAtNDgtMjEuNS00OC00OEwwIDE3NmMwLTI2LjUgMjEuNS00OCA0OC00OHoiLz48L3N2Zz4=);\n",
              "    background-repeat: no-repeat;\n",
              "    background-size: 14px 14px;\n",
              "    background-position: 0;\n",
              "    display: inline-block;\n",
              "    width: 14px;\n",
              "    height: 14px;\n",
              "    cursor: pointer;\n",
              "}\n",
              "</style><body><div id=\"sk-container-id-1\" class=\"sk-top-container\"><div class=\"sk-text-repr-fallback\"><pre>GridSearchCV(cv=TimeSeriesSplit(gap=0, max_train_size=None, n_splits=5, test_size=None),\n",
              "             estimator=Pipeline(steps=[(&#x27;preprocessor&#x27;,\n",
              "                                        ColumnTransformer(remainder=&#x27;passthrough&#x27;,\n",
              "                                                          transformers=[(&#x27;ohe&#x27;,\n",
              "                                                                         Pipeline(steps=[(&#x27;simpleImputer_ohe&#x27;,\n",
              "                                                                                          SimpleImputer(strategy=&#x27;most_frequent&#x27;)),\n",
              "                                                                                         (&#x27;ohe&#x27;,\n",
              "                                                                                          OneHotEncoder(drop=&#x27;first&#x27;,\n",
              "                                                                                                        handle_unknown=&#x27;ignore&#x27;,\n",
              "                                                                                                        sparse_output=False))]),...\n",
              "                          &#x27;models__n_estimators&#x27;: [100, 200, 300],\n",
              "                          &#x27;preprocessor__num&#x27;: [&#x27;passthrough&#x27;]},\n",
              "                         {&#x27;models&#x27;: [LinearRegression()],\n",
              "                          &#x27;preprocessor__num&#x27;: [StandardScaler(),\n",
              "                                                MinMaxScaler(),\n",
              "                                                RobustScaler()]},\n",
              "                         {&#x27;models&#x27;: [&lt;catboost.core.CatBoostRegressor object at 0x7cef5c7bf860&gt;],\n",
              "                          &#x27;models__depth&#x27;: [4, 6, 8],\n",
              "                          &#x27;models__iterations&#x27;: [300, 500],\n",
              "                          &#x27;preprocessor__num&#x27;: [&#x27;passthrough&#x27;]}],\n",
              "             scoring=&#x27;neg_root_mean_squared_error&#x27;, verbose=1)</pre><b>In a Jupyter environment, please rerun this cell to show the HTML representation or trust the notebook. <br />On GitHub, the HTML representation is unable to render, please try loading this page with nbviewer.org.</b></div><div class=\"sk-container\" hidden><div class=\"sk-item sk-dashed-wrapped\"><div class=\"sk-label-container\"><div class=\"sk-label fitted sk-toggleable\"><input class=\"sk-toggleable__control sk-hidden--visually\" id=\"sk-estimator-id-1\" type=\"checkbox\" ><label for=\"sk-estimator-id-1\" class=\"sk-toggleable__label fitted sk-toggleable__label-arrow\"><div><div>GridSearchCV</div></div><div><a class=\"sk-estimator-doc-link fitted\" rel=\"noreferrer\" target=\"_blank\" href=\"https://scikit-learn.org/1.7/modules/generated/sklearn.model_selection.GridSearchCV.html\">?<span>Documentation for GridSearchCV</span></a><span class=\"sk-estimator-doc-link fitted\">i<span>Fitted</span></span></div></label><div class=\"sk-toggleable__content fitted\" data-param-prefix=\"\">\n",
              "        <div class=\"estimator-table\">\n",
              "            <details>\n",
              "                <summary>Parameters</summary>\n",
              "                <table class=\"parameters-table\">\n",
              "                  <tbody>\n",
              "                    \n",
              "        <tr class=\"user-set\">\n",
              "            <td><i class=\"copy-paste-icon\"\n",
              "                 onclick=\"copyToClipboard('estimator',\n",
              "                          this.parentElement.nextElementSibling)\"\n",
              "            ></i></td>\n",
              "            <td class=\"param\">estimator&nbsp;</td>\n",
              "            <td class=\"value\">Pipeline(step...egression())])</td>\n",
              "        </tr>\n",
              "    \n",
              "\n",
              "        <tr class=\"user-set\">\n",
              "            <td><i class=\"copy-paste-icon\"\n",
              "                 onclick=\"copyToClipboard('param_grid',\n",
              "                          this.parentElement.nextElementSibling)\"\n",
              "            ></i></td>\n",
              "            <td class=\"param\">param_grid&nbsp;</td>\n",
              "            <td class=\"value\">[{&#x27;models&#x27;: [LGBMRegressor(verbose=-1)], &#x27;models__max_depth&#x27;: [2, 4, ...], &#x27;models__n_estimators&#x27;: [100, 200, ...], &#x27;preprocessor__num&#x27;: [&#x27;passthrough&#x27;]}, {&#x27;models&#x27;: [LinearRegression()], &#x27;preprocessor__num&#x27;: [StandardScaler(), MinMaxScaler(), ...]}, ...]</td>\n",
              "        </tr>\n",
              "    \n",
              "\n",
              "        <tr class=\"user-set\">\n",
              "            <td><i class=\"copy-paste-icon\"\n",
              "                 onclick=\"copyToClipboard('scoring',\n",
              "                          this.parentElement.nextElementSibling)\"\n",
              "            ></i></td>\n",
              "            <td class=\"param\">scoring&nbsp;</td>\n",
              "            <td class=\"value\">&#x27;neg_root_mean_squared_error&#x27;</td>\n",
              "        </tr>\n",
              "    \n",
              "\n",
              "        <tr class=\"user-set\">\n",
              "            <td><i class=\"copy-paste-icon\"\n",
              "                 onclick=\"copyToClipboard('n_jobs',\n",
              "                          this.parentElement.nextElementSibling)\"\n",
              "            ></i></td>\n",
              "            <td class=\"param\">n_jobs&nbsp;</td>\n",
              "            <td class=\"value\">-1</td>\n",
              "        </tr>\n",
              "    \n",
              "\n",
              "        <tr class=\"default\">\n",
              "            <td><i class=\"copy-paste-icon\"\n",
              "                 onclick=\"copyToClipboard('refit',\n",
              "                          this.parentElement.nextElementSibling)\"\n",
              "            ></i></td>\n",
              "            <td class=\"param\">refit&nbsp;</td>\n",
              "            <td class=\"value\">True</td>\n",
              "        </tr>\n",
              "    \n",
              "\n",
              "        <tr class=\"user-set\">\n",
              "            <td><i class=\"copy-paste-icon\"\n",
              "                 onclick=\"copyToClipboard('cv',\n",
              "                          this.parentElement.nextElementSibling)\"\n",
              "            ></i></td>\n",
              "            <td class=\"param\">cv&nbsp;</td>\n",
              "            <td class=\"value\">TimeSeriesSpl...est_size=None)</td>\n",
              "        </tr>\n",
              "    \n",
              "\n",
              "        <tr class=\"user-set\">\n",
              "            <td><i class=\"copy-paste-icon\"\n",
              "                 onclick=\"copyToClipboard('verbose',\n",
              "                          this.parentElement.nextElementSibling)\"\n",
              "            ></i></td>\n",
              "            <td class=\"param\">verbose&nbsp;</td>\n",
              "            <td class=\"value\">1</td>\n",
              "        </tr>\n",
              "    \n",
              "\n",
              "        <tr class=\"default\">\n",
              "            <td><i class=\"copy-paste-icon\"\n",
              "                 onclick=\"copyToClipboard('pre_dispatch',\n",
              "                          this.parentElement.nextElementSibling)\"\n",
              "            ></i></td>\n",
              "            <td class=\"param\">pre_dispatch&nbsp;</td>\n",
              "            <td class=\"value\">&#x27;2*n_jobs&#x27;</td>\n",
              "        </tr>\n",
              "    \n",
              "\n",
              "        <tr class=\"default\">\n",
              "            <td><i class=\"copy-paste-icon\"\n",
              "                 onclick=\"copyToClipboard('error_score',\n",
              "                          this.parentElement.nextElementSibling)\"\n",
              "            ></i></td>\n",
              "            <td class=\"param\">error_score&nbsp;</td>\n",
              "            <td class=\"value\">nan</td>\n",
              "        </tr>\n",
              "    \n",
              "\n",
              "        <tr class=\"default\">\n",
              "            <td><i class=\"copy-paste-icon\"\n",
              "                 onclick=\"copyToClipboard('return_train_score',\n",
              "                          this.parentElement.nextElementSibling)\"\n",
              "            ></i></td>\n",
              "            <td class=\"param\">return_train_score&nbsp;</td>\n",
              "            <td class=\"value\">False</td>\n",
              "        </tr>\n",
              "    \n",
              "                  </tbody>\n",
              "                </table>\n",
              "            </details>\n",
              "        </div>\n",
              "    </div></div></div><div class=\"sk-parallel\"><div class=\"sk-parallel-item\"><div class=\"sk-item\"><div class=\"sk-label-container\"><div class=\"sk-label fitted sk-toggleable\"><input class=\"sk-toggleable__control sk-hidden--visually\" id=\"sk-estimator-id-2\" type=\"checkbox\" ><label for=\"sk-estimator-id-2\" class=\"sk-toggleable__label fitted sk-toggleable__label-arrow\"><div><div>best_estimator_: Pipeline</div></div></label><div class=\"sk-toggleable__content fitted\" data-param-prefix=\"best_estimator___\"></div></div><div class=\"sk-serial\"><div class=\"sk-item\"><div class=\"sk-serial\"><div class=\"sk-item sk-dashed-wrapped\"><div class=\"sk-label-container\"><div class=\"sk-label fitted sk-toggleable\"><input class=\"sk-toggleable__control sk-hidden--visually\" id=\"sk-estimator-id-3\" type=\"checkbox\" ><label for=\"sk-estimator-id-3\" class=\"sk-toggleable__label fitted sk-toggleable__label-arrow\"><div><div>preprocessor: ColumnTransformer</div></div><div><a class=\"sk-estimator-doc-link fitted\" rel=\"noreferrer\" target=\"_blank\" href=\"https://scikit-learn.org/1.7/modules/generated/sklearn.compose.ColumnTransformer.html\">?<span>Documentation for preprocessor: ColumnTransformer</span></a></div></label><div class=\"sk-toggleable__content fitted\" data-param-prefix=\"best_estimator___preprocessor__\">\n",
              "        <div class=\"estimator-table\">\n",
              "            <details>\n",
              "                <summary>Parameters</summary>\n",
              "                <table class=\"parameters-table\">\n",
              "                  <tbody>\n",
              "                    \n",
              "        <tr class=\"user-set\">\n",
              "            <td><i class=\"copy-paste-icon\"\n",
              "                 onclick=\"copyToClipboard('transformers',\n",
              "                          this.parentElement.nextElementSibling)\"\n",
              "            ></i></td>\n",
              "            <td class=\"param\">transformers&nbsp;</td>\n",
              "            <td class=\"value\">[(&#x27;ohe&#x27;, ...), (&#x27;num&#x27;, ...)]</td>\n",
              "        </tr>\n",
              "    \n",
              "\n",
              "        <tr class=\"user-set\">\n",
              "            <td><i class=\"copy-paste-icon\"\n",
              "                 onclick=\"copyToClipboard('remainder',\n",
              "                          this.parentElement.nextElementSibling)\"\n",
              "            ></i></td>\n",
              "            <td class=\"param\">remainder&nbsp;</td>\n",
              "            <td class=\"value\">&#x27;passthrough&#x27;</td>\n",
              "        </tr>\n",
              "    \n",
              "\n",
              "        <tr class=\"default\">\n",
              "            <td><i class=\"copy-paste-icon\"\n",
              "                 onclick=\"copyToClipboard('sparse_threshold',\n",
              "                          this.parentElement.nextElementSibling)\"\n",
              "            ></i></td>\n",
              "            <td class=\"param\">sparse_threshold&nbsp;</td>\n",
              "            <td class=\"value\">0.3</td>\n",
              "        </tr>\n",
              "    \n",
              "\n",
              "        <tr class=\"default\">\n",
              "            <td><i class=\"copy-paste-icon\"\n",
              "                 onclick=\"copyToClipboard('n_jobs',\n",
              "                          this.parentElement.nextElementSibling)\"\n",
              "            ></i></td>\n",
              "            <td class=\"param\">n_jobs&nbsp;</td>\n",
              "            <td class=\"value\">None</td>\n",
              "        </tr>\n",
              "    \n",
              "\n",
              "        <tr class=\"default\">\n",
              "            <td><i class=\"copy-paste-icon\"\n",
              "                 onclick=\"copyToClipboard('transformer_weights',\n",
              "                          this.parentElement.nextElementSibling)\"\n",
              "            ></i></td>\n",
              "            <td class=\"param\">transformer_weights&nbsp;</td>\n",
              "            <td class=\"value\">None</td>\n",
              "        </tr>\n",
              "    \n",
              "\n",
              "        <tr class=\"default\">\n",
              "            <td><i class=\"copy-paste-icon\"\n",
              "                 onclick=\"copyToClipboard('verbose',\n",
              "                          this.parentElement.nextElementSibling)\"\n",
              "            ></i></td>\n",
              "            <td class=\"param\">verbose&nbsp;</td>\n",
              "            <td class=\"value\">False</td>\n",
              "        </tr>\n",
              "    \n",
              "\n",
              "        <tr class=\"default\">\n",
              "            <td><i class=\"copy-paste-icon\"\n",
              "                 onclick=\"copyToClipboard('verbose_feature_names_out',\n",
              "                          this.parentElement.nextElementSibling)\"\n",
              "            ></i></td>\n",
              "            <td class=\"param\">verbose_feature_names_out&nbsp;</td>\n",
              "            <td class=\"value\">True</td>\n",
              "        </tr>\n",
              "    \n",
              "\n",
              "        <tr class=\"default\">\n",
              "            <td><i class=\"copy-paste-icon\"\n",
              "                 onclick=\"copyToClipboard('force_int_remainder_cols',\n",
              "                          this.parentElement.nextElementSibling)\"\n",
              "            ></i></td>\n",
              "            <td class=\"param\">force_int_remainder_cols&nbsp;</td>\n",
              "            <td class=\"value\">&#x27;deprecated&#x27;</td>\n",
              "        </tr>\n",
              "    \n",
              "                  </tbody>\n",
              "                </table>\n",
              "            </details>\n",
              "        </div>\n",
              "    </div></div></div><div class=\"sk-parallel\"><div class=\"sk-parallel-item\"><div class=\"sk-item\"><div class=\"sk-label-container\"><div class=\"sk-label fitted sk-toggleable\"><input class=\"sk-toggleable__control sk-hidden--visually\" id=\"sk-estimator-id-4\" type=\"checkbox\" ><label for=\"sk-estimator-id-4\" class=\"sk-toggleable__label fitted sk-toggleable__label-arrow\"><div><div>ohe</div></div></label><div class=\"sk-toggleable__content fitted\" data-param-prefix=\"best_estimator___preprocessor__ohe__\"><pre>[&#x27;hour&#x27;, &#x27;dayofweek&#x27;]</pre></div></div></div><div class=\"sk-serial\"><div class=\"sk-item\"><div class=\"sk-serial\"><div class=\"sk-item\"><div class=\"sk-estimator fitted sk-toggleable\"><input class=\"sk-toggleable__control sk-hidden--visually\" id=\"sk-estimator-id-5\" type=\"checkbox\" ><label for=\"sk-estimator-id-5\" class=\"sk-toggleable__label fitted sk-toggleable__label-arrow\"><div><div>SimpleImputer</div></div><div><a class=\"sk-estimator-doc-link fitted\" rel=\"noreferrer\" target=\"_blank\" href=\"https://scikit-learn.org/1.7/modules/generated/sklearn.impute.SimpleImputer.html\">?<span>Documentation for SimpleImputer</span></a></div></label><div class=\"sk-toggleable__content fitted\" data-param-prefix=\"best_estimator___preprocessor__ohe__simpleImputer_ohe__\">\n",
              "        <div class=\"estimator-table\">\n",
              "            <details>\n",
              "                <summary>Parameters</summary>\n",
              "                <table class=\"parameters-table\">\n",
              "                  <tbody>\n",
              "                    \n",
              "        <tr class=\"default\">\n",
              "            <td><i class=\"copy-paste-icon\"\n",
              "                 onclick=\"copyToClipboard('missing_values',\n",
              "                          this.parentElement.nextElementSibling)\"\n",
              "            ></i></td>\n",
              "            <td class=\"param\">missing_values&nbsp;</td>\n",
              "            <td class=\"value\">nan</td>\n",
              "        </tr>\n",
              "    \n",
              "\n",
              "        <tr class=\"user-set\">\n",
              "            <td><i class=\"copy-paste-icon\"\n",
              "                 onclick=\"copyToClipboard('strategy',\n",
              "                          this.parentElement.nextElementSibling)\"\n",
              "            ></i></td>\n",
              "            <td class=\"param\">strategy&nbsp;</td>\n",
              "            <td class=\"value\">&#x27;most_frequent&#x27;</td>\n",
              "        </tr>\n",
              "    \n",
              "\n",
              "        <tr class=\"default\">\n",
              "            <td><i class=\"copy-paste-icon\"\n",
              "                 onclick=\"copyToClipboard('fill_value',\n",
              "                          this.parentElement.nextElementSibling)\"\n",
              "            ></i></td>\n",
              "            <td class=\"param\">fill_value&nbsp;</td>\n",
              "            <td class=\"value\">None</td>\n",
              "        </tr>\n",
              "    \n",
              "\n",
              "        <tr class=\"default\">\n",
              "            <td><i class=\"copy-paste-icon\"\n",
              "                 onclick=\"copyToClipboard('copy',\n",
              "                          this.parentElement.nextElementSibling)\"\n",
              "            ></i></td>\n",
              "            <td class=\"param\">copy&nbsp;</td>\n",
              "            <td class=\"value\">True</td>\n",
              "        </tr>\n",
              "    \n",
              "\n",
              "        <tr class=\"default\">\n",
              "            <td><i class=\"copy-paste-icon\"\n",
              "                 onclick=\"copyToClipboard('add_indicator',\n",
              "                          this.parentElement.nextElementSibling)\"\n",
              "            ></i></td>\n",
              "            <td class=\"param\">add_indicator&nbsp;</td>\n",
              "            <td class=\"value\">False</td>\n",
              "        </tr>\n",
              "    \n",
              "\n",
              "        <tr class=\"default\">\n",
              "            <td><i class=\"copy-paste-icon\"\n",
              "                 onclick=\"copyToClipboard('keep_empty_features',\n",
              "                          this.parentElement.nextElementSibling)\"\n",
              "            ></i></td>\n",
              "            <td class=\"param\">keep_empty_features&nbsp;</td>\n",
              "            <td class=\"value\">False</td>\n",
              "        </tr>\n",
              "    \n",
              "                  </tbody>\n",
              "                </table>\n",
              "            </details>\n",
              "        </div>\n",
              "    </div></div></div><div class=\"sk-item\"><div class=\"sk-estimator fitted sk-toggleable\"><input class=\"sk-toggleable__control sk-hidden--visually\" id=\"sk-estimator-id-6\" type=\"checkbox\" ><label for=\"sk-estimator-id-6\" class=\"sk-toggleable__label fitted sk-toggleable__label-arrow\"><div><div>OneHotEncoder</div></div><div><a class=\"sk-estimator-doc-link fitted\" rel=\"noreferrer\" target=\"_blank\" href=\"https://scikit-learn.org/1.7/modules/generated/sklearn.preprocessing.OneHotEncoder.html\">?<span>Documentation for OneHotEncoder</span></a></div></label><div class=\"sk-toggleable__content fitted\" data-param-prefix=\"best_estimator___preprocessor__ohe__ohe__\">\n",
              "        <div class=\"estimator-table\">\n",
              "            <details>\n",
              "                <summary>Parameters</summary>\n",
              "                <table class=\"parameters-table\">\n",
              "                  <tbody>\n",
              "                    \n",
              "        <tr class=\"default\">\n",
              "            <td><i class=\"copy-paste-icon\"\n",
              "                 onclick=\"copyToClipboard('categories',\n",
              "                          this.parentElement.nextElementSibling)\"\n",
              "            ></i></td>\n",
              "            <td class=\"param\">categories&nbsp;</td>\n",
              "            <td class=\"value\">&#x27;auto&#x27;</td>\n",
              "        </tr>\n",
              "    \n",
              "\n",
              "        <tr class=\"user-set\">\n",
              "            <td><i class=\"copy-paste-icon\"\n",
              "                 onclick=\"copyToClipboard('drop',\n",
              "                          this.parentElement.nextElementSibling)\"\n",
              "            ></i></td>\n",
              "            <td class=\"param\">drop&nbsp;</td>\n",
              "            <td class=\"value\">&#x27;first&#x27;</td>\n",
              "        </tr>\n",
              "    \n",
              "\n",
              "        <tr class=\"user-set\">\n",
              "            <td><i class=\"copy-paste-icon\"\n",
              "                 onclick=\"copyToClipboard('sparse_output',\n",
              "                          this.parentElement.nextElementSibling)\"\n",
              "            ></i></td>\n",
              "            <td class=\"param\">sparse_output&nbsp;</td>\n",
              "            <td class=\"value\">False</td>\n",
              "        </tr>\n",
              "    \n",
              "\n",
              "        <tr class=\"default\">\n",
              "            <td><i class=\"copy-paste-icon\"\n",
              "                 onclick=\"copyToClipboard('dtype',\n",
              "                          this.parentElement.nextElementSibling)\"\n",
              "            ></i></td>\n",
              "            <td class=\"param\">dtype&nbsp;</td>\n",
              "            <td class=\"value\">&lt;class &#x27;numpy.float64&#x27;&gt;</td>\n",
              "        </tr>\n",
              "    \n",
              "\n",
              "        <tr class=\"user-set\">\n",
              "            <td><i class=\"copy-paste-icon\"\n",
              "                 onclick=\"copyToClipboard('handle_unknown',\n",
              "                          this.parentElement.nextElementSibling)\"\n",
              "            ></i></td>\n",
              "            <td class=\"param\">handle_unknown&nbsp;</td>\n",
              "            <td class=\"value\">&#x27;ignore&#x27;</td>\n",
              "        </tr>\n",
              "    \n",
              "\n",
              "        <tr class=\"default\">\n",
              "            <td><i class=\"copy-paste-icon\"\n",
              "                 onclick=\"copyToClipboard('min_frequency',\n",
              "                          this.parentElement.nextElementSibling)\"\n",
              "            ></i></td>\n",
              "            <td class=\"param\">min_frequency&nbsp;</td>\n",
              "            <td class=\"value\">None</td>\n",
              "        </tr>\n",
              "    \n",
              "\n",
              "        <tr class=\"default\">\n",
              "            <td><i class=\"copy-paste-icon\"\n",
              "                 onclick=\"copyToClipboard('max_categories',\n",
              "                          this.parentElement.nextElementSibling)\"\n",
              "            ></i></td>\n",
              "            <td class=\"param\">max_categories&nbsp;</td>\n",
              "            <td class=\"value\">None</td>\n",
              "        </tr>\n",
              "    \n",
              "\n",
              "        <tr class=\"default\">\n",
              "            <td><i class=\"copy-paste-icon\"\n",
              "                 onclick=\"copyToClipboard('feature_name_combiner',\n",
              "                          this.parentElement.nextElementSibling)\"\n",
              "            ></i></td>\n",
              "            <td class=\"param\">feature_name_combiner&nbsp;</td>\n",
              "            <td class=\"value\">&#x27;concat&#x27;</td>\n",
              "        </tr>\n",
              "    \n",
              "                  </tbody>\n",
              "                </table>\n",
              "            </details>\n",
              "        </div>\n",
              "    </div></div></div></div></div></div></div></div><div class=\"sk-parallel-item\"><div class=\"sk-item\"><div class=\"sk-label-container\"><div class=\"sk-label fitted sk-toggleable\"><input class=\"sk-toggleable__control sk-hidden--visually\" id=\"sk-estimator-id-7\" type=\"checkbox\" ><label for=\"sk-estimator-id-7\" class=\"sk-toggleable__label fitted sk-toggleable__label-arrow\"><div><div>num</div></div></label><div class=\"sk-toggleable__content fitted\" data-param-prefix=\"best_estimator___preprocessor__num__\"><pre>[&#x27;rolling_mean&#x27;, &#x27;lag_1&#x27;, &#x27;lag_2&#x27;, &#x27;lag_3&#x27;, &#x27;lag_4&#x27;, &#x27;lag_5&#x27;, &#x27;lag_6&#x27;, &#x27;lag_7&#x27;, &#x27;lag_8&#x27;, &#x27;lag_9&#x27;, &#x27;lag_10&#x27;, &#x27;lag_11&#x27;, &#x27;lag_12&#x27;, &#x27;lag_13&#x27;, &#x27;lag_14&#x27;, &#x27;lag_15&#x27;, &#x27;lag_16&#x27;, &#x27;lag_17&#x27;, &#x27;lag_18&#x27;, &#x27;lag_19&#x27;, &#x27;lag_20&#x27;, &#x27;lag_21&#x27;, &#x27;lag_22&#x27;, &#x27;lag_23&#x27;, &#x27;lag_24&#x27;]</pre></div></div></div><div class=\"sk-serial\"><div class=\"sk-item\"><div class=\"sk-estimator fitted sk-toggleable\"><input class=\"sk-toggleable__control sk-hidden--visually\" id=\"sk-estimator-id-8\" type=\"checkbox\" ><label for=\"sk-estimator-id-8\" class=\"sk-toggleable__label fitted sk-toggleable__label-arrow\"><div><div>passthrough</div></div></label><div class=\"sk-toggleable__content fitted\" data-param-prefix=\"best_estimator___preprocessor__num__\"><pre>passthrough</pre></div></div></div></div></div></div><div class=\"sk-parallel-item\"><div class=\"sk-item\"><div class=\"sk-label-container\"><div class=\"sk-label fitted sk-toggleable\"><input class=\"sk-toggleable__control sk-hidden--visually\" id=\"sk-estimator-id-9\" type=\"checkbox\" ><label for=\"sk-estimator-id-9\" class=\"sk-toggleable__label fitted sk-toggleable__label-arrow\"><div><div>remainder</div></div></label><div class=\"sk-toggleable__content fitted\" data-param-prefix=\"best_estimator___preprocessor__remainder__\"><pre>[]</pre></div></div></div><div class=\"sk-serial\"><div class=\"sk-item\"><div class=\"sk-estimator fitted sk-toggleable\"><input class=\"sk-toggleable__control sk-hidden--visually\" id=\"sk-estimator-id-10\" type=\"checkbox\" ><label for=\"sk-estimator-id-10\" class=\"sk-toggleable__label fitted sk-toggleable__label-arrow\"><div><div>passthrough</div></div></label><div class=\"sk-toggleable__content fitted\" data-param-prefix=\"best_estimator___preprocessor__remainder__\"><pre>passthrough</pre></div></div></div></div></div></div></div></div><div class=\"sk-item\"><div class=\"sk-estimator fitted sk-toggleable\"><input class=\"sk-toggleable__control sk-hidden--visually\" id=\"sk-estimator-id-11\" type=\"checkbox\" ><label for=\"sk-estimator-id-11\" class=\"sk-toggleable__label fitted sk-toggleable__label-arrow\"><div><div>CatBoostRegressor</div></div></label><div class=\"sk-toggleable__content fitted\" data-param-prefix=\"best_estimator___models__\"><pre>&lt;catboost.core.CatBoostRegressor object at 0x7cef5c7b77d0&gt;</pre></div></div></div></div></div></div></div></div></div></div></div></div><script>function copyToClipboard(text, element) {\n",
              "    // Get the parameter prefix from the closest toggleable content\n",
              "    const toggleableContent = element.closest('.sk-toggleable__content');\n",
              "    const paramPrefix = toggleableContent ? toggleableContent.dataset.paramPrefix : '';\n",
              "    const fullParamName = paramPrefix ? `${paramPrefix}${text}` : text;\n",
              "\n",
              "    const originalStyle = element.style;\n",
              "    const computedStyle = window.getComputedStyle(element);\n",
              "    const originalWidth = computedStyle.width;\n",
              "    const originalHTML = element.innerHTML.replace('Copied!', '');\n",
              "\n",
              "    navigator.clipboard.writeText(fullParamName)\n",
              "        .then(() => {\n",
              "            element.style.width = originalWidth;\n",
              "            element.style.color = 'green';\n",
              "            element.innerHTML = \"Copied!\";\n",
              "\n",
              "            setTimeout(() => {\n",
              "                element.innerHTML = originalHTML;\n",
              "                element.style = originalStyle;\n",
              "            }, 2000);\n",
              "        })\n",
              "        .catch(err => {\n",
              "            console.error('Failed to copy:', err);\n",
              "            element.style.color = 'red';\n",
              "            element.innerHTML = \"Failed!\";\n",
              "            setTimeout(() => {\n",
              "                element.innerHTML = originalHTML;\n",
              "                element.style = originalStyle;\n",
              "            }, 2000);\n",
              "        });\n",
              "    return false;\n",
              "}\n",
              "\n",
              "document.querySelectorAll('.fa-regular.fa-copy').forEach(function(element) {\n",
              "    const toggleableContent = element.closest('.sk-toggleable__content');\n",
              "    const paramPrefix = toggleableContent ? toggleableContent.dataset.paramPrefix : '';\n",
              "    const paramName = element.parentElement.nextElementSibling.textContent.trim();\n",
              "    const fullParamName = paramPrefix ? `${paramPrefix}${paramName}` : paramName;\n",
              "\n",
              "    element.setAttribute('title', fullParamName);\n",
              "});\n",
              "</script></body>"
            ]
          },
          "metadata": {},
          "execution_count": 28
        }
      ],
      "source": [
        "grid_search = GridSearchCV(\n",
        "    estimator=pipe_final,\n",
        "    param_grid=param_grid,\n",
        "    cv=TimeSeriesSplit(n_splits=5),\n",
        "    scoring='neg_root_mean_squared_error',\n",
        "    n_jobs=-1,\n",
        "    verbose=1,\n",
        "    refit=True\n",
        ")\n",
        "\n",
        "grid_search.fit(X_train, y_train)"
      ]
    },
    {
      "cell_type": "code",
      "execution_count": 29,
      "metadata": {
        "colab": {
          "base_uri": "https://localhost:8080/"
        },
        "id": "PtTMcjiofRvR",
        "outputId": "9da6ee70-8d0e-4110-a1b1-823702c7e7e7"
      },
      "outputs": [
        {
          "output_type": "stream",
          "name": "stdout",
          "text": [
            "Лучшая модель и её параметры:\n",
            "\n",
            " Pipeline(steps=[('preprocessor',\n",
            "                 ColumnTransformer(remainder='passthrough',\n",
            "                                   transformers=[('ohe',\n",
            "                                                  Pipeline(steps=[('simpleImputer_ohe',\n",
            "                                                                   SimpleImputer(strategy='most_frequent')),\n",
            "                                                                  ('ohe',\n",
            "                                                                   OneHotEncoder(drop='first',\n",
            "                                                                                 handle_unknown='ignore',\n",
            "                                                                                 sparse_output=False))]),\n",
            "                                                  ['hour', 'dayofweek']),\n",
            "                                                 ('num', 'passthrough',\n",
            "                                                  ['rolling_mean', 'lag_1',\n",
            "                                                   'lag_2', 'lag_3', 'lag_4',\n",
            "                                                   'lag_5', 'lag_6', 'lag_7',\n",
            "                                                   'lag_8', 'lag_9', 'lag_10',\n",
            "                                                   'lag_11', 'lag_12', 'lag_13',\n",
            "                                                   'lag_14', 'lag_15', 'lag_16',\n",
            "                                                   'lag_17', 'lag_18', 'lag_19',\n",
            "                                                   'lag_20', 'lag_21', 'lag_22',\n",
            "                                                   'lag_23', 'lag_24'])])),\n",
            "                ('models',\n",
            "                 <catboost.core.CatBoostRegressor object at 0x7cef5c7b77d0>)])\n",
            "Метрика лучшей модели на кросс-валидации: 24.58246523946541\n"
          ]
        }
      ],
      "source": [
        "print('Лучшая модель и её параметры:\\n\\n', grid_search.best_estimator_)\n",
        "print ('Метрика лучшей модели на кросс-валидации:', -grid_search.best_score_)"
      ]
    },
    {
      "cell_type": "markdown",
      "metadata": {
        "id": "kbos7OYQfRvR"
      },
      "source": [
        "По итогу подбора лучшей моделью оказалася CatBoostRegressor"
      ]
    },
    {
      "cell_type": "markdown",
      "metadata": {
        "id": "55wwaM_CfRvR"
      },
      "source": [
        "## Тестирование"
      ]
    },
    {
      "cell_type": "code",
      "execution_count": 30,
      "metadata": {
        "colab": {
          "base_uri": "https://localhost:8080/"
        },
        "id": "7FSD5mwsfRvR",
        "outputId": "0e0e5772-072a-4653-ed6e-60249f5432f2"
      },
      "outputs": [
        {
          "output_type": "stream",
          "name": "stdout",
          "text": [
            "Метрика RMSE на тестовой выборке: 40.61998286552021\n"
          ]
        }
      ],
      "source": [
        "best_model = grid_search.best_estimator_\n",
        "y_pred = best_model.predict(X_test)\n",
        "print(f'Метрика RMSE на тестовой выборке: {root_mean_squared_error(y_test, y_pred)}')"
      ]
    },
    {
      "cell_type": "markdown",
      "metadata": {
        "id": "0mZhhLgefRvS"
      },
      "source": [
        "Метрика на лучшей модели вышла 40"
      ]
    },
    {
      "cell_type": "markdown",
      "metadata": {
        "id": "RU3tDgv7fRvS"
      },
      "source": [
        "### Проверка модели"
      ]
    },
    {
      "cell_type": "markdown",
      "metadata": {
        "id": "i3RSy0VKfRvT"
      },
      "source": [
        "Провожу проверку модели с использованием бейзлайнов и предсказания предыдущим значением"
      ]
    },
    {
      "cell_type": "code",
      "execution_count": 31,
      "metadata": {
        "id": "TEVJCVfYfRvT"
      },
      "outputs": [],
      "source": [
        "test_data = pd.DataFrame(index=X_test.index)\n",
        "test_data['num_orders'] = y_test"
      ]
    },
    {
      "cell_type": "code",
      "execution_count": 32,
      "metadata": {
        "id": "gV0xM5rwfRvT"
      },
      "outputs": [],
      "source": [
        "test_data['pred_naive'] = test_data['num_orders'].shift(1)\n",
        "test_data['pred_hourly'] = test_data['num_orders'].shift(24)\n",
        "test_data['pred_weekly'] = test_data['num_orders'].shift(168)"
      ]
    },
    {
      "cell_type": "code",
      "execution_count": 33,
      "metadata": {
        "id": "TSx9ylSbfRvT"
      },
      "outputs": [],
      "source": [
        "test_data_clean = test_data.dropna()"
      ]
    },
    {
      "cell_type": "code",
      "execution_count": 34,
      "metadata": {
        "colab": {
          "base_uri": "https://localhost:8080/"
        },
        "id": "Wuuz-_UqfRvT",
        "outputId": "77d0acba-f934-4999-84da-04168e25d0e6"
      },
      "outputs": [
        {
          "output_type": "stream",
          "name": "stdout",
          "text": [
            "RMSE предыдущее значение ряда: 59.993278212287535\n",
            "RMSE часовой: 56.713005241334635\n",
            "RMSE недельный: 42.03174851480341\n"
          ]
        }
      ],
      "source": [
        "print(f\"RMSE предыдущее значение ряда: {root_mean_squared_error(test_data_clean['num_orders'], test_data_clean['pred_naive'])}\")\n",
        "print(f\"RMSE часовой: {root_mean_squared_error(test_data_clean['num_orders'], test_data_clean['pred_hourly'])}\")\n",
        "print(f\"RMSE недельный: {root_mean_squared_error(test_data_clean['num_orders'], test_data_clean['pred_weekly'])}\")"
      ]
    },
    {
      "cell_type": "markdown",
      "metadata": {
        "id": "bOYeRj1gfRvT"
      },
      "source": [
        "По итогам проверки модель справляется лучше простых предсказаний. Хотя недельное предсказание вышло довольно близким по RMSE, но точность модели остается самой высокой"
      ]
    },
    {
      "cell_type": "markdown",
      "metadata": {
        "id": "_QCtfjA7fRvT"
      },
      "source": [
        "## Вывод"
      ]
    },
    {
      "cell_type": "markdown",
      "metadata": {
        "id": "LG8c7NvufRvU"
      },
      "source": [
        "Такси чаще вызывают из аэропорта к концу лета, что скорее всего связано с возвращением людей из отпусков и поездок. Пиковые часы для таксистов около полуночи, в это время уже не ходит общественный транспорт и такси становиться чуть ли не единственным вариантом уехать из аэропорта. Эти факторы стоит учитывать в работе. Так же нужно собрать данные за целый год, чтобы проще было прогнозировать спрос на такси."
      ]
    }
  ],
  "metadata": {
    "ExecuteTimeLog": [
      {
        "duration": 12600,
        "start_time": "2025-07-17T13:41:13.516Z"
      },
      {
        "duration": 6557,
        "start_time": "2025-07-17T13:41:32.991Z"
      },
      {
        "duration": 2015,
        "start_time": "2025-07-17T13:46:36.987Z"
      },
      {
        "duration": 58,
        "start_time": "2025-07-17T13:46:39.849Z"
      },
      {
        "duration": 78,
        "start_time": "2025-07-17T13:48:00.690Z"
      },
      {
        "duration": 23,
        "start_time": "2025-07-17T13:48:23.057Z"
      },
      {
        "duration": 12,
        "start_time": "2025-07-17T13:49:55.930Z"
      },
      {
        "duration": 12,
        "start_time": "2025-07-17T13:52:51.556Z"
      },
      {
        "duration": 11,
        "start_time": "2025-07-17T13:52:59.390Z"
      },
      {
        "duration": 143,
        "start_time": "2025-07-17T13:53:06.890Z"
      },
      {
        "duration": 15,
        "start_time": "2025-07-17T13:53:15.256Z"
      },
      {
        "duration": 12,
        "start_time": "2025-07-17T13:54:51.353Z"
      },
      {
        "duration": 12,
        "start_time": "2025-07-17T13:55:50.904Z"
      },
      {
        "duration": 6,
        "start_time": "2025-07-17T14:00:53.732Z"
      },
      {
        "duration": 42541,
        "start_time": "2025-07-17T14:01:03.604Z"
      },
      {
        "duration": 403,
        "start_time": "2025-07-17T14:01:52.887Z"
      },
      {
        "duration": 237,
        "start_time": "2025-07-17T14:02:12.509Z"
      },
      {
        "duration": 262,
        "start_time": "2025-07-17T14:02:29.664Z"
      },
      {
        "duration": 50369,
        "start_time": "2025-07-17T14:02:59.071Z"
      },
      {
        "duration": 16,
        "start_time": "2025-07-17T14:04:36.770Z"
      },
      {
        "duration": 5129,
        "start_time": "2025-07-17T14:04:40.662Z"
      },
      {
        "duration": 271,
        "start_time": "2025-07-17T14:06:35.213Z"
      },
      {
        "duration": 263,
        "start_time": "2025-07-17T14:06:56.801Z"
      },
      {
        "duration": 998,
        "start_time": "2025-07-17T14:07:03.609Z"
      },
      {
        "duration": 818,
        "start_time": "2025-07-17T14:07:16.724Z"
      },
      {
        "duration": 12,
        "start_time": "2025-07-17T14:08:48.500Z"
      },
      {
        "duration": 222,
        "start_time": "2025-07-17T14:10:16.988Z"
      },
      {
        "duration": 267,
        "start_time": "2025-07-17T14:13:13.955Z"
      },
      {
        "duration": 373,
        "start_time": "2025-07-17T14:14:15.375Z"
      },
      {
        "duration": 15,
        "start_time": "2025-07-17T14:17:32.426Z"
      },
      {
        "duration": 11,
        "start_time": "2025-07-17T14:18:02.923Z"
      },
      {
        "duration": 10485,
        "start_time": "2025-07-17T14:19:15.937Z"
      },
      {
        "duration": 3419,
        "start_time": "2025-07-17T14:19:26.425Z"
      },
      {
        "duration": 1871,
        "start_time": "2025-07-17T14:19:29.846Z"
      },
      {
        "duration": 42,
        "start_time": "2025-07-17T14:19:31.719Z"
      },
      {
        "duration": 110,
        "start_time": "2025-07-17T14:19:31.765Z"
      },
      {
        "duration": 21,
        "start_time": "2025-07-17T14:19:31.879Z"
      },
      {
        "duration": 62,
        "start_time": "2025-07-17T14:19:31.902Z"
      },
      {
        "duration": 24,
        "start_time": "2025-07-17T14:19:31.967Z"
      },
      {
        "duration": 98,
        "start_time": "2025-07-17T14:19:31.992Z"
      },
      {
        "duration": 9,
        "start_time": "2025-07-17T14:19:32.092Z"
      },
      {
        "duration": 10,
        "start_time": "2025-07-17T14:19:32.103Z"
      },
      {
        "duration": 11,
        "start_time": "2025-07-17T14:19:32.114Z"
      },
      {
        "duration": 298,
        "start_time": "2025-07-17T14:20:56.361Z"
      },
      {
        "duration": 23,
        "start_time": "2025-07-17T14:21:29.537Z"
      },
      {
        "duration": 7,
        "start_time": "2025-07-17T14:21:53.978Z"
      },
      {
        "duration": 381,
        "start_time": "2025-07-17T14:22:08.213Z"
      },
      {
        "duration": 5,
        "start_time": "2025-07-17T14:22:30.648Z"
      },
      {
        "duration": 281,
        "start_time": "2025-07-17T14:22:32.585Z"
      },
      {
        "duration": 295,
        "start_time": "2025-07-17T14:22:54.955Z"
      },
      {
        "duration": 291,
        "start_time": "2025-07-17T14:23:01.442Z"
      },
      {
        "duration": 5,
        "start_time": "2025-07-17T14:23:22.948Z"
      },
      {
        "duration": 308,
        "start_time": "2025-07-17T14:23:25.362Z"
      },
      {
        "duration": 290,
        "start_time": "2025-07-17T14:26:06.252Z"
      },
      {
        "duration": 591,
        "start_time": "2025-07-17T14:26:15.983Z"
      },
      {
        "duration": 340,
        "start_time": "2025-07-17T14:26:50.487Z"
      },
      {
        "duration": 335,
        "start_time": "2025-07-17T14:27:06.586Z"
      },
      {
        "duration": 372,
        "start_time": "2025-07-17T14:27:13.706Z"
      },
      {
        "duration": 5,
        "start_time": "2025-07-17T14:31:34.906Z"
      },
      {
        "duration": 288,
        "start_time": "2025-07-17T14:31:37.515Z"
      },
      {
        "duration": 5,
        "start_time": "2025-07-17T14:31:52.374Z"
      },
      {
        "duration": 288,
        "start_time": "2025-07-17T14:31:53.873Z"
      },
      {
        "duration": 9795,
        "start_time": "2025-07-17T14:35:26.648Z"
      },
      {
        "duration": 3028,
        "start_time": "2025-07-17T14:35:36.445Z"
      },
      {
        "duration": 1815,
        "start_time": "2025-07-17T14:35:39.475Z"
      },
      {
        "duration": 42,
        "start_time": "2025-07-17T14:35:41.292Z"
      },
      {
        "duration": 72,
        "start_time": "2025-07-17T14:35:41.335Z"
      },
      {
        "duration": 22,
        "start_time": "2025-07-17T14:35:41.409Z"
      },
      {
        "duration": 98,
        "start_time": "2025-07-17T14:35:41.433Z"
      },
      {
        "duration": 11,
        "start_time": "2025-07-17T14:35:41.533Z"
      },
      {
        "duration": 10,
        "start_time": "2025-07-17T14:35:41.546Z"
      },
      {
        "duration": 11,
        "start_time": "2025-07-17T14:35:41.559Z"
      },
      {
        "duration": 11,
        "start_time": "2025-07-17T14:35:41.572Z"
      },
      {
        "duration": 9,
        "start_time": "2025-07-17T14:35:41.585Z"
      },
      {
        "duration": 331,
        "start_time": "2025-07-17T14:36:00.824Z"
      },
      {
        "duration": 23,
        "start_time": "2025-07-17T14:38:56.189Z"
      },
      {
        "duration": 29,
        "start_time": "2025-07-17T15:01:24.426Z"
      },
      {
        "duration": 8,
        "start_time": "2025-07-17T15:01:34.079Z"
      },
      {
        "duration": 241,
        "start_time": "2025-07-17T15:01:57.350Z"
      },
      {
        "duration": 241,
        "start_time": "2025-07-17T15:02:41.761Z"
      },
      {
        "duration": 280,
        "start_time": "2025-07-17T15:02:44.520Z"
      },
      {
        "duration": 175,
        "start_time": "2025-07-17T15:10:39.300Z"
      },
      {
        "duration": 155,
        "start_time": "2025-07-17T15:10:51.377Z"
      },
      {
        "duration": 161,
        "start_time": "2025-07-17T15:11:06.393Z"
      },
      {
        "duration": 169,
        "start_time": "2025-07-17T15:14:12.366Z"
      },
      {
        "duration": 4,
        "start_time": "2025-07-17T15:14:43.401Z"
      },
      {
        "duration": 8704,
        "start_time": "2025-07-17T15:14:49.918Z"
      },
      {
        "duration": 7061,
        "start_time": "2025-07-17T15:15:13.624Z"
      },
      {
        "duration": 7378,
        "start_time": "2025-07-17T15:16:11.508Z"
      },
      {
        "duration": 6720,
        "start_time": "2025-07-17T15:16:35.198Z"
      },
      {
        "duration": 2772,
        "start_time": "2025-07-17T15:16:59.883Z"
      },
      {
        "duration": 1595,
        "start_time": "2025-07-17T15:17:16.170Z"
      },
      {
        "duration": 1315,
        "start_time": "2025-07-17T15:17:34.733Z"
      },
      {
        "duration": 201,
        "start_time": "2025-07-17T15:18:08.122Z"
      },
      {
        "duration": 23533,
        "start_time": "2025-07-17T15:20:03.297Z"
      },
      {
        "duration": 12511,
        "start_time": "2025-07-17T15:20:44.976Z"
      },
      {
        "duration": 181,
        "start_time": "2025-07-17T15:21:26.447Z"
      },
      {
        "duration": 163,
        "start_time": "2025-07-17T15:21:34.520Z"
      },
      {
        "duration": 178,
        "start_time": "2025-07-17T15:22:18.912Z"
      },
      {
        "duration": 175,
        "start_time": "2025-07-17T15:22:43.494Z"
      },
      {
        "duration": 167,
        "start_time": "2025-07-17T15:22:55.843Z"
      },
      {
        "duration": 7,
        "start_time": "2025-07-17T15:38:27.222Z"
      },
      {
        "duration": 7,
        "start_time": "2025-07-17T15:44:01.093Z"
      },
      {
        "duration": 3,
        "start_time": "2025-07-17T15:45:52.465Z"
      },
      {
        "duration": 11,
        "start_time": "2025-07-17T15:46:15.760Z"
      },
      {
        "duration": 15,
        "start_time": "2025-07-17T15:46:57.833Z"
      },
      {
        "duration": 18,
        "start_time": "2025-07-17T15:48:28.580Z"
      },
      {
        "duration": 12,
        "start_time": "2025-07-17T15:48:40.714Z"
      },
      {
        "duration": 14,
        "start_time": "2025-07-17T15:48:59.478Z"
      },
      {
        "duration": 11,
        "start_time": "2025-07-17T15:54:35.028Z"
      },
      {
        "duration": 12,
        "start_time": "2025-07-17T16:04:25.742Z"
      },
      {
        "duration": 14,
        "start_time": "2025-07-17T16:05:59.813Z"
      },
      {
        "duration": 4,
        "start_time": "2025-07-17T16:06:24.943Z"
      },
      {
        "duration": 3,
        "start_time": "2025-07-17T16:06:30.803Z"
      },
      {
        "duration": 3,
        "start_time": "2025-07-17T16:08:45.878Z"
      },
      {
        "duration": 4,
        "start_time": "2025-07-17T16:11:02.021Z"
      },
      {
        "duration": 4,
        "start_time": "2025-07-17T16:15:43.950Z"
      },
      {
        "duration": 3,
        "start_time": "2025-07-17T16:16:28.751Z"
      },
      {
        "duration": 19976,
        "start_time": "2025-07-17T16:16:56.603Z"
      },
      {
        "duration": 4,
        "start_time": "2025-07-17T16:19:34.387Z"
      },
      {
        "duration": 18341,
        "start_time": "2025-07-17T16:19:36.550Z"
      },
      {
        "duration": 15,
        "start_time": "2025-07-17T16:22:16.680Z"
      },
      {
        "duration": 21815,
        "start_time": "2025-07-17T16:23:02.041Z"
      },
      {
        "duration": 5,
        "start_time": "2025-07-17T16:25:48.683Z"
      },
      {
        "duration": 5,
        "start_time": "2025-07-17T16:25:58.128Z"
      },
      {
        "duration": 12,
        "start_time": "2025-07-17T16:27:30.015Z"
      },
      {
        "duration": 7,
        "start_time": "2025-07-17T16:28:03.712Z"
      },
      {
        "duration": 13,
        "start_time": "2025-07-17T16:28:04.842Z"
      },
      {
        "duration": 7,
        "start_time": "2025-07-17T16:28:23.242Z"
      },
      {
        "duration": 13,
        "start_time": "2025-07-17T16:28:25.323Z"
      },
      {
        "duration": 4,
        "start_time": "2025-07-17T16:29:36.096Z"
      },
      {
        "duration": 30402,
        "start_time": "2025-07-17T16:29:39.095Z"
      },
      {
        "duration": 5,
        "start_time": "2025-07-17T16:30:15.242Z"
      },
      {
        "duration": 11,
        "start_time": "2025-07-17T16:30:18.198Z"
      },
      {
        "duration": 4,
        "start_time": "2025-07-17T16:30:52.831Z"
      },
      {
        "duration": 168360,
        "start_time": "2025-07-17T16:30:55.410Z"
      },
      {
        "duration": 13,
        "start_time": "2025-07-17T16:34:15.028Z"
      },
      {
        "duration": 12,
        "start_time": "2025-07-17T16:34:42.483Z"
      },
      {
        "duration": 4,
        "start_time": "2025-07-17T16:35:11.373Z"
      },
      {
        "duration": 13,
        "start_time": "2025-07-17T16:35:12.949Z"
      },
      {
        "duration": 130,
        "start_time": "2025-07-17T16:35:19.678Z"
      },
      {
        "duration": 35515,
        "start_time": "2025-07-17T16:37:09.998Z"
      },
      {
        "duration": 83057,
        "start_time": "2025-07-17T16:37:50.298Z"
      },
      {
        "duration": 16,
        "start_time": "2025-07-17T16:39:31.638Z"
      },
      {
        "duration": 19015,
        "start_time": "2025-07-17T16:39:54.524Z"
      },
      {
        "duration": 0,
        "start_time": "2025-07-17T16:40:13.541Z"
      },
      {
        "duration": 70477,
        "start_time": "2025-07-17T16:40:14.923Z"
      },
      {
        "duration": 4,
        "start_time": "2025-07-17T16:41:27.119Z"
      },
      {
        "duration": 36296,
        "start_time": "2025-07-17T16:41:28.936Z"
      },
      {
        "duration": 5,
        "start_time": "2025-07-17T16:42:49.330Z"
      },
      {
        "duration": 8,
        "start_time": "2025-07-17T16:42:52.884Z"
      },
      {
        "duration": 4,
        "start_time": "2025-07-17T16:43:11.299Z"
      },
      {
        "duration": 29196,
        "start_time": "2025-07-17T16:43:13.094Z"
      },
      {
        "duration": 5,
        "start_time": "2025-07-17T16:43:59.337Z"
      },
      {
        "duration": 10,
        "start_time": "2025-07-17T16:44:02.584Z"
      },
      {
        "duration": 8,
        "start_time": "2025-07-17T16:44:59.626Z"
      },
      {
        "duration": 14,
        "start_time": "2025-07-17T16:45:01.155Z"
      },
      {
        "duration": 14285,
        "start_time": "2025-07-17T16:45:16.891Z"
      },
      {
        "duration": 3284,
        "start_time": "2025-07-17T16:45:31.179Z"
      },
      {
        "duration": 1996,
        "start_time": "2025-07-17T16:45:34.465Z"
      },
      {
        "duration": 45,
        "start_time": "2025-07-17T16:45:36.463Z"
      },
      {
        "duration": 95,
        "start_time": "2025-07-17T16:45:36.510Z"
      },
      {
        "duration": 20,
        "start_time": "2025-07-17T16:45:36.606Z"
      },
      {
        "duration": 10,
        "start_time": "2025-07-17T16:45:36.628Z"
      },
      {
        "duration": 150,
        "start_time": "2025-07-17T16:45:36.640Z"
      },
      {
        "duration": 0,
        "start_time": "2025-07-17T16:45:36.793Z"
      },
      {
        "duration": 0,
        "start_time": "2025-07-17T16:45:36.794Z"
      },
      {
        "duration": 0,
        "start_time": "2025-07-17T16:45:36.796Z"
      },
      {
        "duration": 0,
        "start_time": "2025-07-17T16:45:36.797Z"
      },
      {
        "duration": 0,
        "start_time": "2025-07-17T16:45:36.799Z"
      },
      {
        "duration": 0,
        "start_time": "2025-07-17T16:45:36.800Z"
      },
      {
        "duration": 0,
        "start_time": "2025-07-17T16:45:36.802Z"
      },
      {
        "duration": 0,
        "start_time": "2025-07-17T16:45:36.803Z"
      },
      {
        "duration": 0,
        "start_time": "2025-07-17T16:45:36.804Z"
      },
      {
        "duration": 0,
        "start_time": "2025-07-17T16:45:36.806Z"
      },
      {
        "duration": 0,
        "start_time": "2025-07-17T16:45:36.807Z"
      },
      {
        "duration": 14,
        "start_time": "2025-07-17T16:47:01.695Z"
      },
      {
        "duration": 10875,
        "start_time": "2025-07-17T16:47:37.854Z"
      },
      {
        "duration": 3065,
        "start_time": "2025-07-17T16:47:48.731Z"
      },
      {
        "duration": 1920,
        "start_time": "2025-07-17T16:47:51.798Z"
      },
      {
        "duration": 40,
        "start_time": "2025-07-17T16:47:53.720Z"
      },
      {
        "duration": 73,
        "start_time": "2025-07-17T16:47:53.761Z"
      },
      {
        "duration": 16,
        "start_time": "2025-07-17T16:47:53.835Z"
      },
      {
        "duration": 8,
        "start_time": "2025-07-17T16:47:53.852Z"
      },
      {
        "duration": 154,
        "start_time": "2025-07-17T16:47:53.862Z"
      },
      {
        "duration": 0,
        "start_time": "2025-07-17T16:47:54.019Z"
      },
      {
        "duration": 0,
        "start_time": "2025-07-17T16:47:54.020Z"
      },
      {
        "duration": 0,
        "start_time": "2025-07-17T16:47:54.021Z"
      },
      {
        "duration": 0,
        "start_time": "2025-07-17T16:47:54.022Z"
      },
      {
        "duration": 0,
        "start_time": "2025-07-17T16:47:54.023Z"
      },
      {
        "duration": 0,
        "start_time": "2025-07-17T16:47:54.024Z"
      },
      {
        "duration": 0,
        "start_time": "2025-07-17T16:47:54.024Z"
      },
      {
        "duration": 0,
        "start_time": "2025-07-17T16:47:54.025Z"
      },
      {
        "duration": 0,
        "start_time": "2025-07-17T16:47:54.026Z"
      },
      {
        "duration": 0,
        "start_time": "2025-07-17T16:47:54.027Z"
      },
      {
        "duration": 0,
        "start_time": "2025-07-17T16:47:54.028Z"
      },
      {
        "duration": 0,
        "start_time": "2025-07-17T16:47:54.029Z"
      },
      {
        "duration": 0,
        "start_time": "2025-07-17T16:47:54.030Z"
      },
      {
        "duration": 0,
        "start_time": "2025-07-17T16:47:54.030Z"
      },
      {
        "duration": 0,
        "start_time": "2025-07-17T16:47:54.031Z"
      },
      {
        "duration": 0,
        "start_time": "2025-07-17T16:47:54.032Z"
      },
      {
        "duration": 0,
        "start_time": "2025-07-17T16:47:54.033Z"
      },
      {
        "duration": 0,
        "start_time": "2025-07-17T16:47:54.034Z"
      },
      {
        "duration": 0,
        "start_time": "2025-07-17T16:47:54.035Z"
      },
      {
        "duration": 0,
        "start_time": "2025-07-17T16:47:54.036Z"
      },
      {
        "duration": 14,
        "start_time": "2025-07-17T16:48:27.590Z"
      },
      {
        "duration": 4,
        "start_time": "2025-07-17T16:48:30.715Z"
      },
      {
        "duration": 102,
        "start_time": "2025-07-17T16:48:30.721Z"
      },
      {
        "duration": 17,
        "start_time": "2025-07-17T16:48:30.825Z"
      },
      {
        "duration": 20,
        "start_time": "2025-07-17T16:48:30.844Z"
      },
      {
        "duration": 0,
        "start_time": "2025-07-17T16:48:30.867Z"
      },
      {
        "duration": 0,
        "start_time": "2025-07-17T16:48:30.868Z"
      },
      {
        "duration": 0,
        "start_time": "2025-07-17T16:48:30.870Z"
      },
      {
        "duration": 0,
        "start_time": "2025-07-17T16:48:30.871Z"
      },
      {
        "duration": 0,
        "start_time": "2025-07-17T16:48:30.872Z"
      },
      {
        "duration": 0,
        "start_time": "2025-07-17T16:48:30.873Z"
      },
      {
        "duration": 0,
        "start_time": "2025-07-17T16:48:30.874Z"
      },
      {
        "duration": 0,
        "start_time": "2025-07-17T16:48:30.875Z"
      },
      {
        "duration": 0,
        "start_time": "2025-07-17T16:48:30.875Z"
      },
      {
        "duration": 0,
        "start_time": "2025-07-17T16:48:30.876Z"
      },
      {
        "duration": 0,
        "start_time": "2025-07-17T16:48:30.878Z"
      },
      {
        "duration": 0,
        "start_time": "2025-07-17T16:48:30.879Z"
      },
      {
        "duration": 0,
        "start_time": "2025-07-17T16:48:30.880Z"
      },
      {
        "duration": 1,
        "start_time": "2025-07-17T16:48:30.880Z"
      },
      {
        "duration": 0,
        "start_time": "2025-07-17T16:48:30.882Z"
      },
      {
        "duration": 0,
        "start_time": "2025-07-17T16:48:30.883Z"
      },
      {
        "duration": 0,
        "start_time": "2025-07-17T16:48:30.884Z"
      },
      {
        "duration": 12289,
        "start_time": "2025-07-17T17:27:22.187Z"
      },
      {
        "duration": 7273,
        "start_time": "2025-07-17T17:27:34.478Z"
      },
      {
        "duration": 2547,
        "start_time": "2025-07-17T17:27:41.753Z"
      },
      {
        "duration": 46,
        "start_time": "2025-07-17T17:27:44.302Z"
      },
      {
        "duration": 94,
        "start_time": "2025-07-17T17:27:44.350Z"
      },
      {
        "duration": 21,
        "start_time": "2025-07-17T17:27:44.446Z"
      },
      {
        "duration": 82,
        "start_time": "2025-07-17T17:27:44.468Z"
      },
      {
        "duration": 11,
        "start_time": "2025-07-17T17:27:44.551Z"
      },
      {
        "duration": 14,
        "start_time": "2025-07-17T17:27:44.564Z"
      },
      {
        "duration": 12,
        "start_time": "2025-07-17T17:27:44.579Z"
      },
      {
        "duration": 10,
        "start_time": "2025-07-17T17:27:44.593Z"
      },
      {
        "duration": 10,
        "start_time": "2025-07-17T17:27:44.604Z"
      },
      {
        "duration": 384,
        "start_time": "2025-07-17T17:27:44.616Z"
      },
      {
        "duration": 7,
        "start_time": "2025-07-17T17:27:45.003Z"
      },
      {
        "duration": 486,
        "start_time": "2025-07-17T17:27:45.012Z"
      },
      {
        "duration": 8,
        "start_time": "2025-07-17T17:27:45.500Z"
      },
      {
        "duration": 277,
        "start_time": "2025-07-17T17:27:45.510Z"
      },
      {
        "duration": 194,
        "start_time": "2025-07-17T17:27:45.788Z"
      },
      {
        "duration": 4,
        "start_time": "2025-07-17T17:27:45.985Z"
      },
      {
        "duration": 19,
        "start_time": "2025-07-17T17:27:45.991Z"
      },
      {
        "duration": 20,
        "start_time": "2025-07-17T17:27:46.011Z"
      },
      {
        "duration": 19,
        "start_time": "2025-07-17T17:27:46.033Z"
      },
      {
        "duration": 18,
        "start_time": "2025-07-17T17:27:46.054Z"
      },
      {
        "duration": 16,
        "start_time": "2025-07-17T17:27:46.074Z"
      },
      {
        "duration": 7,
        "start_time": "2025-07-17T17:27:46.092Z"
      },
      {
        "duration": 228541,
        "start_time": "2025-07-17T17:27:46.101Z"
      },
      {
        "duration": 5,
        "start_time": "2025-07-17T17:31:34.643Z"
      },
      {
        "duration": 19,
        "start_time": "2025-07-17T17:31:34.650Z"
      },
      {
        "duration": 11076,
        "start_time": "2025-07-20T13:14:16.758Z"
      },
      {
        "duration": 6413,
        "start_time": "2025-07-20T13:14:27.836Z"
      },
      {
        "duration": 1849,
        "start_time": "2025-07-20T13:14:34.251Z"
      },
      {
        "duration": 43,
        "start_time": "2025-07-20T13:14:36.102Z"
      },
      {
        "duration": 110,
        "start_time": "2025-07-20T13:14:36.147Z"
      },
      {
        "duration": 17,
        "start_time": "2025-07-20T13:14:36.258Z"
      },
      {
        "duration": 29,
        "start_time": "2025-07-20T13:14:36.277Z"
      },
      {
        "duration": 19,
        "start_time": "2025-07-20T13:14:36.308Z"
      },
      {
        "duration": 29,
        "start_time": "2025-07-20T13:14:36.329Z"
      },
      {
        "duration": 9,
        "start_time": "2025-07-20T13:14:36.359Z"
      },
      {
        "duration": 10,
        "start_time": "2025-07-20T13:14:36.370Z"
      },
      {
        "duration": 17,
        "start_time": "2025-07-20T13:14:36.381Z"
      },
      {
        "duration": 301,
        "start_time": "2025-07-20T13:14:53.458Z"
      },
      {
        "duration": 7,
        "start_time": "2025-07-20T13:15:09.028Z"
      },
      {
        "duration": 377,
        "start_time": "2025-07-20T13:15:19.641Z"
      },
      {
        "duration": 5,
        "start_time": "2025-07-20T13:15:52.089Z"
      },
      {
        "duration": 296,
        "start_time": "2025-07-20T13:15:54.599Z"
      },
      {
        "duration": 9,
        "start_time": "2025-07-20T13:18:32.123Z"
      },
      {
        "duration": 227,
        "start_time": "2025-07-20T13:18:35.155Z"
      },
      {
        "duration": 159,
        "start_time": "2025-07-20T13:18:50.282Z"
      },
      {
        "duration": 4,
        "start_time": "2025-07-20T13:21:28.310Z"
      },
      {
        "duration": 20,
        "start_time": "2025-07-20T13:26:17.343Z"
      },
      {
        "duration": 24,
        "start_time": "2025-07-20T13:26:21.560Z"
      },
      {
        "duration": 11,
        "start_time": "2025-07-20T13:26:42.289Z"
      },
      {
        "duration": 3,
        "start_time": "2025-07-20T14:39:04.604Z"
      },
      {
        "duration": 3,
        "start_time": "2025-07-20T14:43:07.444Z"
      },
      {
        "duration": 4,
        "start_time": "2025-07-20T14:43:18.897Z"
      },
      {
        "duration": 3,
        "start_time": "2025-07-20T14:43:26.203Z"
      },
      {
        "duration": 3,
        "start_time": "2025-07-20T14:43:31.244Z"
      },
      {
        "duration": 4,
        "start_time": "2025-07-20T14:43:56.884Z"
      },
      {
        "duration": 2,
        "start_time": "2025-07-20T14:44:03.616Z"
      },
      {
        "duration": 4,
        "start_time": "2025-07-20T14:44:08.824Z"
      },
      {
        "duration": 150128,
        "start_time": "2025-07-20T14:44:12.877Z"
      },
      {
        "duration": 14,
        "start_time": "2025-07-20T14:47:11.292Z"
      },
      {
        "duration": 18,
        "start_time": "2025-07-20T14:47:16.279Z"
      },
      {
        "duration": 138,
        "start_time": "2025-07-20T15:02:04.996Z"
      },
      {
        "duration": 5,
        "start_time": "2025-07-20T15:07:24.535Z"
      },
      {
        "duration": 7,
        "start_time": "2025-07-20T15:07:31.722Z"
      },
      {
        "duration": 4,
        "start_time": "2025-07-20T15:07:58.792Z"
      },
      {
        "duration": 11,
        "start_time": "2025-07-20T15:09:29.721Z"
      },
      {
        "duration": 5,
        "start_time": "2025-07-20T15:09:43.680Z"
      },
      {
        "duration": 5,
        "start_time": "2025-07-20T15:09:46.577Z"
      },
      {
        "duration": 4,
        "start_time": "2025-07-20T15:10:45.113Z"
      },
      {
        "duration": 5,
        "start_time": "2025-07-20T15:12:27.762Z"
      },
      {
        "duration": 5,
        "start_time": "2025-07-20T15:12:28.538Z"
      },
      {
        "duration": 7,
        "start_time": "2025-07-20T15:12:29.251Z"
      }
    ],
    "kernelspec": {
      "display_name": "Python 3 (ipykernel)",
      "language": "python",
      "name": "python3"
    },
    "language_info": {
      "codemirror_mode": {
        "name": "ipython",
        "version": 3
      },
      "file_extension": ".py",
      "mimetype": "text/x-python",
      "name": "python",
      "nbconvert_exporter": "python",
      "pygments_lexer": "ipython3",
      "version": "3.9.5"
    },
    "toc": {
      "base_numbering": 1,
      "nav_menu": {},
      "number_sections": true,
      "sideBar": true,
      "skip_h1_title": true,
      "title_cell": "Содержание",
      "title_sidebar": "Contents",
      "toc_cell": true,
      "toc_position": {
        "height": "calc(100% - 180px)",
        "left": "10px",
        "top": "150px",
        "width": "198.391px"
      },
      "toc_section_display": true,
      "toc_window_display": true
    },
    "colab": {
      "provenance": []
    }
  },
  "nbformat": 4,
  "nbformat_minor": 0
}